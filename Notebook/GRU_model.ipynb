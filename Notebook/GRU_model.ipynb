{
 "cells": [
  {
   "cell_type": "code",
   "execution_count": 1,
   "metadata": {},
   "outputs": [],
   "source": [
    "import pandas as pd\n",
    "import numpy as np\n",
    "import matplotlib\n",
    "import matplotlib.pyplot as plt"
   ]
  },
  {
   "cell_type": "code",
   "execution_count": 2,
   "metadata": {},
   "outputs": [],
   "source": [
    "# Jeu de données initial \n",
    "train = pd.read_json(\"train.json\", lines = True)\n",
    "test = pd.read_json(\"test.json\", lines = True)"
   ]
  },
  {
   "cell_type": "code",
   "execution_count": 3,
   "metadata": {},
   "outputs": [],
   "source": [
    "import json\n",
    "\n",
    "import pandas as pd\n",
    "import numpy as np\n",
    "import plotly.express as px\n",
    "import tensorflow.keras.layers as L\n",
    "import tensorflow as tf\n",
    "from sklearn.model_selection import train_test_split\n",
    "from keras.layers import LeakyReLU"
   ]
  },
  {
   "cell_type": "code",
   "execution_count": 9,
   "metadata": {},
   "outputs": [],
   "source": [
    "tf.random.set_seed(2020)\n",
    "np.random.seed(2020)"
   ]
  },
  {
   "cell_type": "code",
   "execution_count": 10,
   "metadata": {},
   "outputs": [],
   "source": [
    "pred_cols = ['reactivity', 'deg_Mg_pH10', 'deg_Mg_50C', 'deg_pH10', 'deg_50C']"
   ]
  },
  {
   "cell_type": "code",
   "execution_count": 11,
   "metadata": {},
   "outputs": [],
   "source": [
    "y_true = tf.random.normal((32, 68, 3))\n",
    "y_pred = tf.random.normal((32, 68, 3))"
   ]
  },
  {
   "cell_type": "code",
   "execution_count": 12,
   "metadata": {},
   "outputs": [],
   "source": [
    "def MCRMSE(y_true, y_pred):\n",
    "    colwise_mse = tf.reduce_mean(tf.square(y_true - y_pred), axis=1)\n",
    "    re = tf.reduce_mean(tf.sqrt(colwise_mse), axis=1)\n",
    "    print(re)\n",
    "    return re"
   ]
  },
  {
   "cell_type": "code",
   "execution_count": 41,
   "metadata": {},
   "outputs": [],
   "source": [
    "def gru_layer(hidden_dim, dropout):\n",
    "    return L.Bidirectional(L.GRU(\n",
    "        hidden_dim, dropout=dropout, return_sequences=True, kernel_initializer='orthogonal'))\n",
    "\n",
    "def build_model(embed_size, seq_len=68, pred_len=68, dropout=0.5, \n",
    "                sp_dropout=0.2, embed_dim=200, hidden_dim=256, n_layers=3):\n",
    "    inputs = L.Input(shape=(seq_len, 4))# 107 longueur sequence - 4 ATGU\n",
    "    embed = L.Embedding(input_dim=embed_size, output_dim=embed_dim)(inputs)\n",
    "\n",
    "    reshaped = tf.reshape(\n",
    "        embed, shape=(-1, 68,  embed.shape[2] * embed.shape[3])\n",
    "    )\n",
    "    hidden = L.SpatialDropout1D(sp_dropout)(reshaped)\n",
    "    \n",
    "    for x in range(n_layers):\n",
    "        print(x,\"layer\")\n",
    "        hidden = gru_layer(hidden_dim, dropout)(hidden)\n",
    "    \n",
    "    # Since we are only making predictions on the first part of each sequence, \n",
    "    # we have to truncate it\n",
    "    truncated = hidden[:, :pred_len]\n",
    "    out = L.Dense(5, activation='linear')(truncated)\n",
    "    \n",
    "    model = tf.keras.Model(inputs=inputs, outputs=out)\n",
    "    model.compile(tf.keras.optimizers.RMSprop(), loss=MCRMSE, metrics=[\"accuracy\"])\n",
    "    \n",
    "    return model"
   ]
  },
  {
   "cell_type": "code",
   "execution_count": 42,
   "metadata": {},
   "outputs": [],
   "source": [
    "def pandas_list_to_array(df):\n",
    "    \"\"\"\n",
    "    Input: dataframe of shape (x, y), containing list of length l\n",
    "    Return: np.array of shape (x, l, y)\n",
    "    \"\"\"\n",
    "    \n",
    "    return np.transpose(\n",
    "        np.array(df.values.tolist()),\n",
    "        (0, 2, 1)\n",
    "    )"
   ]
  },
  {
   "cell_type": "code",
   "execution_count": 43,
   "metadata": {},
   "outputs": [],
   "source": [
    "def preprocess_inputs(df, token2int, cols=['sequence', 'structure', 'predicted_loop_type']):\n",
    "    return pandas_list_to_array(\n",
    "        df[cols].applymap(lambda seq: [token2int[x] for x in seq])\n",
    "    )"
   ]
  },
  {
   "cell_type": "code",
   "execution_count": 44,
   "metadata": {},
   "outputs": [],
   "source": [
    "train = train.query(\"signal_to_noise >= 1\")"
   ]
  },
  {
   "cell_type": "code",
   "execution_count": 45,
   "metadata": {},
   "outputs": [],
   "source": [
    "token2int = {x:i for i, x in enumerate('().ACGUBEHIMSX')}\n",
    "\n",
    "train_inputs = preprocess_inputs(train, token2int)\n",
    "train_labels = pandas_list_to_array(train[pred_cols])"
   ]
  },
  {
   "cell_type": "code",
   "execution_count": 46,
   "metadata": {},
   "outputs": [
    {
     "name": "stdout",
     "output_type": "stream",
     "text": [
      "(1887, 107, 3)\n",
      "(1887, 68, 5)\n",
      "(1887, 68, 4)\n",
      "(1887, 68, 5)\n"
     ]
    }
   ],
   "source": [
    "x_train, x_val, y_train, y_val = train_test_split(\n",
    "    train_inputs, train_labels, test_size=.1, random_state=34, stratify=train.SN_filter)\n",
    "\n",
    "print(x_train.shape)\n",
    "print(y_train.shape)\n",
    "\n",
    "x_train, x_val, y_train, y_val = train_test_split(\n",
    "    x_seq, train_labels, test_size=.1, random_state=34, stratify=train.SN_filter)\n",
    "\n",
    "print(x_train.shape)\n",
    "print(y_train.shape)"
   ]
  },
  {
   "cell_type": "code",
   "execution_count": 47,
   "metadata": {},
   "outputs": [
    {
     "data": {
      "text/plain": [
       "array([[[1., 0., 0., 0.],\n",
       "        [1., 0., 0., 0.],\n",
       "        [0., 1., 0., 0.],\n",
       "        ...,\n",
       "        [0., 0., 0., 1.],\n",
       "        [0., 0., 0., 1.],\n",
       "        [1., 0., 0., 0.]],\n",
       "\n",
       "       [[1., 0., 0., 0.],\n",
       "        [1., 0., 0., 0.],\n",
       "        [0., 1., 0., 0.],\n",
       "        ...,\n",
       "        [0., 1., 0., 0.],\n",
       "        [0., 1., 0., 0.],\n",
       "        [0., 1., 0., 0.]],\n",
       "\n",
       "       [[1., 0., 0., 0.],\n",
       "        [1., 0., 0., 0.],\n",
       "        [0., 1., 0., 0.],\n",
       "        ...,\n",
       "        [1., 0., 0., 0.],\n",
       "        [0., 0., 1., 0.],\n",
       "        [0., 1., 0., 0.]],\n",
       "\n",
       "       ...,\n",
       "\n",
       "       [[1., 0., 0., 0.],\n",
       "        [1., 0., 0., 0.],\n",
       "        [0., 1., 0., 0.],\n",
       "        ...,\n",
       "        [1., 0., 0., 0.],\n",
       "        [0., 0., 1., 0.],\n",
       "        [0., 1., 0., 0.]],\n",
       "\n",
       "       [[1., 0., 0., 0.],\n",
       "        [1., 0., 0., 0.],\n",
       "        [0., 1., 0., 0.],\n",
       "        ...,\n",
       "        [0., 0., 1., 0.],\n",
       "        [0., 0., 1., 0.],\n",
       "        [0., 0., 1., 0.]],\n",
       "\n",
       "       [[1., 0., 0., 0.],\n",
       "        [1., 0., 0., 0.],\n",
       "        [0., 1., 0., 0.],\n",
       "        ...,\n",
       "        [0., 0., 0., 1.],\n",
       "        [0., 1., 0., 0.],\n",
       "        [0., 1., 0., 0.]]])"
      ]
     },
     "execution_count": 47,
     "metadata": {},
     "output_type": "execute_result"
    }
   ],
   "source": [
    "x_train"
   ]
  },
  {
   "cell_type": "code",
   "execution_count": 48,
   "metadata": {},
   "outputs": [
    {
     "data": {
      "text/plain": [
       "array([list([[[1, 0, 0, 0]], [[1, 0, 0, 0]], [[0, 1, 0, 0]], [[0, 1, 0, 0]], [[0, 1, 0, 0]], [[0, 1, 0, 0]], [[1, 0, 0, 0]], [[0, 0, 1, 0]], [[0, 0, 0, 1]], [[0, 0, 1, 0]], [[0, 0, 0, 1]], [[0, 1, 0, 0]], [[0, 1, 0, 0]], [[0, 0, 0, 1]], [[0, 1, 0, 0]], [[0, 1, 0, 0]], [[0, 0, 1, 0]], [[0, 1, 0, 0]], [[1, 0, 0, 0]], [[1, 0, 0, 0]], [[0, 1, 0, 0]], [[1, 0, 0, 0]], [[0, 1, 0, 0]], [[0, 0, 1, 0]], [[0, 0, 0, 1]], [[0, 1, 0, 0]], [[1, 0, 0, 0]], [[1, 0, 0, 0]], [[0, 1, 0, 0]], [[0, 0, 1, 0]], [[0, 0, 0, 1]], [[0, 1, 0, 0]], [[0, 0, 1, 0]], [[1, 0, 0, 0]], [[0, 0, 0, 1]], [[0, 1, 0, 0]], [[0, 0, 0, 1]], [[0, 0, 0, 1]], [[0, 0, 0, 1]], [[0, 0, 1, 0]], [[0, 0, 0, 1]], [[0, 1, 0, 0]], [[1, 0, 0, 0]], [[1, 0, 0, 0]], [[0, 0, 0, 1]], [[0, 1, 0, 0]], [[0, 1, 0, 0]], [[0, 0, 1, 0]], [[0, 0, 0, 1]], [[1, 0, 0, 0]], [[1, 0, 0, 0]], [[0, 1, 0, 0]], [[0, 1, 0, 0]], [[0, 0, 0, 1]], [[0, 1, 0, 0]], [[0, 1, 0, 0]], [[0, 0, 1, 0]], [[0, 0, 1, 0]], [[0, 0, 1, 0]], [[0, 1, 0, 0]], [[0, 0, 0, 1]], [[0, 1, 0, 0]], [[0, 0, 1, 0]], [[0, 0, 1, 0]], [[0, 1, 0, 0]], [[1, 0, 0, 0]], [[0, 0, 1, 0]], [[0, 1, 0, 0]]]),\n",
       "       list([[[1, 0, 0, 0]], [[1, 0, 0, 0]], [[0, 1, 0, 0]], [[0, 1, 0, 0]], [[0, 1, 0, 0]], [[1, 0, 0, 0]], [[0, 0, 0, 1]], [[1, 0, 0, 0]], [[0, 0, 1, 0]], [[0, 0, 0, 1]], [[0, 0, 1, 0]], [[0, 1, 0, 0]], [[1, 0, 0, 0]], [[0, 1, 0, 0]], [[0, 0, 0, 1]], [[0, 1, 0, 0]], [[0, 1, 0, 0]], [[1, 0, 0, 0]], [[0, 0, 1, 0]], [[0, 0, 0, 1]], [[0, 1, 0, 0]], [[0, 1, 0, 0]], [[1, 0, 0, 0]], [[0, 0, 1, 0]], [[0, 0, 0, 1]], [[0, 0, 1, 0]], [[1, 0, 0, 0]], [[0, 1, 0, 0]], [[0, 1, 0, 0]], [[0, 0, 0, 1]], [[0, 1, 0, 0]], [[1, 0, 0, 0]], [[0, 0, 1, 0]], [[0, 1, 0, 0]], [[0, 1, 0, 0]], [[0, 0, 0, 1]], [[0, 0, 1, 0]], [[1, 0, 0, 0]], [[0, 1, 0, 0]], [[0, 1, 0, 0]], [[0, 0, 0, 1]], [[0, 1, 0, 0]], [[1, 0, 0, 0]], [[0, 1, 0, 0]], [[0, 1, 0, 0]], [[0, 0, 0, 1]], [[0, 0, 1, 0]], [[1, 0, 0, 0]], [[0, 1, 0, 0]], [[0, 1, 0, 0]], [[0, 1, 0, 0]], [[0, 0, 0, 1]], [[0, 1, 0, 0]], [[1, 0, 0, 0]], [[0, 0, 1, 0]], [[0, 1, 0, 0]], [[0, 0, 0, 1]], [[0, 0, 1, 0]], [[1, 0, 0, 0]], [[0, 1, 0, 0]], [[0, 0, 0, 1]], [[1, 0, 0, 0]], [[0, 0, 0, 1]], [[1, 0, 0, 0]], [[0, 0, 0, 1]], [[0, 1, 0, 0]], [[0, 0, 0, 1]], [[0, 1, 0, 0]]]),\n",
       "       list([[[1, 0, 0, 0]], [[1, 0, 0, 0]], [[0, 1, 0, 0]], [[0, 1, 0, 0]], [[0, 1, 0, 0]], [[1, 0, 0, 0]], [[0, 0, 1, 0]], [[1, 0, 0, 0]], [[0, 0, 1, 0]], [[0, 0, 1, 0]], [[1, 0, 0, 0]], [[0, 0, 1, 0]], [[1, 0, 0, 0]], [[1, 0, 0, 0]], [[0, 0, 1, 0]], [[1, 0, 0, 0]], [[1, 0, 0, 0]], [[0, 0, 0, 1]], [[0, 1, 0, 0]], [[1, 0, 0, 0]], [[0, 0, 1, 0]], [[1, 0, 0, 0]], [[1, 0, 0, 0]], [[0, 0, 1, 0]], [[0, 1, 0, 0]], [[1, 0, 0, 0]], [[0, 0, 1, 0]], [[1, 0, 0, 0]], [[0, 1, 0, 0]], [[1, 0, 0, 0]], [[1, 0, 0, 0]], [[0, 1, 0, 0]], [[1, 0, 0, 0]], [[0, 0, 1, 0]], [[1, 0, 0, 0]], [[0, 0, 1, 0]], [[0, 0, 0, 1]], [[0, 1, 0, 0]], [[0, 0, 1, 0]], [[0, 0, 1, 0]], [[0, 1, 0, 0]], [[0, 1, 0, 0]], [[1, 0, 0, 0]], [[1, 0, 0, 0]], [[0, 0, 1, 0]], [[0, 1, 0, 0]], [[0, 0, 1, 0]], [[0, 1, 0, 0]], [[1, 0, 0, 0]], [[0, 0, 1, 0]], [[1, 0, 0, 0]], [[0, 0, 1, 0]], [[0, 0, 1, 0]], [[1, 0, 0, 0]], [[0, 0, 1, 0]], [[0, 1, 0, 0]], [[1, 0, 0, 0]], [[0, 0, 1, 0]], [[1, 0, 0, 0]], [[1, 0, 0, 0]], [[0, 0, 1, 0]], [[0, 1, 0, 0]], [[0, 0, 1, 0]], [[0, 1, 0, 0]], [[0, 0, 1, 0]], [[0, 1, 0, 0]], [[0, 0, 1, 0]], [[0, 1, 0, 0]]]),\n",
       "       ...,\n",
       "       list([[[1, 0, 0, 0]], [[1, 0, 0, 0]], [[0, 1, 0, 0]], [[0, 1, 0, 0]], [[0, 1, 0, 0]], [[0, 1, 0, 0]], [[0, 0, 1, 0]], [[0, 1, 0, 0]], [[0, 1, 0, 0]], [[0, 1, 0, 0]], [[0, 1, 0, 0]], [[0, 1, 0, 0]], [[0, 0, 1, 0]], [[0, 1, 0, 0]], [[0, 1, 0, 0]], [[0, 1, 0, 0]], [[0, 0, 1, 0]], [[0, 1, 0, 0]], [[0, 1, 0, 0]], [[0, 0, 1, 0]], [[0, 1, 0, 0]], [[0, 1, 0, 0]], [[0, 1, 0, 0]], [[0, 1, 0, 0]], [[0, 1, 0, 0]], [[0, 0, 1, 0]], [[0, 1, 0, 0]], [[0, 1, 0, 0]], [[0, 1, 0, 0]], [[0, 0, 1, 0]], [[0, 1, 0, 0]], [[0, 1, 0, 0]], [[0, 0, 1, 0]], [[0, 1, 0, 0]], [[0, 1, 0, 0]], [[0, 1, 0, 0]], [[0, 1, 0, 0]], [[0, 1, 0, 0]], [[0, 0, 1, 0]], [[0, 1, 0, 0]], [[0, 1, 0, 0]], [[0, 1, 0, 0]], [[0, 0, 1, 0]], [[0, 1, 0, 0]], [[0, 1, 0, 0]], [[0, 0, 1, 0]], [[0, 1, 0, 0]], [[0, 1, 0, 0]], [[0, 1, 0, 0]], [[0, 1, 0, 0]], [[0, 1, 0, 0]], [[0, 0, 1, 0]], [[0, 1, 0, 0]], [[0, 1, 0, 0]], [[0, 1, 0, 0]], [[0, 0, 1, 0]], [[0, 1, 0, 0]], [[0, 1, 0, 0]], [[0, 0, 1, 0]], [[0, 1, 0, 0]], [[0, 1, 0, 0]], [[0, 1, 0, 0]], [[0, 1, 0, 0]], [[0, 1, 0, 0]], [[0, 0, 1, 0]], [[0, 1, 0, 0]], [[0, 1, 0, 0]], [[0, 1, 0, 0]]]),\n",
       "       list([[[1, 0, 0, 0]], [[1, 0, 0, 0]], [[0, 1, 0, 0]], [[0, 1, 0, 0]], [[0, 1, 0, 0]], [[0, 0, 1, 0]], [[1, 0, 0, 0]], [[0, 1, 0, 0]], [[0, 0, 0, 1]], [[0, 1, 0, 0]], [[1, 0, 0, 0]], [[0, 0, 1, 0]], [[0, 1, 0, 0]], [[1, 0, 0, 0]], [[0, 1, 0, 0]], [[0, 1, 0, 0]], [[1, 0, 0, 0]], [[0, 1, 0, 0]], [[1, 0, 0, 0]], [[0, 1, 0, 0]], [[0, 0, 0, 1]], [[0, 0, 1, 0]], [[1, 0, 0, 0]], [[0, 1, 0, 0]], [[0, 0, 0, 1]], [[0, 1, 0, 0]], [[0, 0, 0, 1]], [[0, 1, 0, 0]], [[1, 0, 0, 0]], [[0, 1, 0, 0]], [[1, 0, 0, 0]], [[0, 0, 1, 0]], [[0, 1, 0, 0]], [[0, 0, 0, 1]], [[0, 1, 0, 0]], [[0, 1, 0, 0]], [[1, 0, 0, 0]], [[0, 0, 1, 0]], [[0, 0, 0, 1]], [[0, 1, 0, 0]], [[0, 1, 0, 0]], [[1, 0, 0, 0]], [[0, 1, 0, 0]], [[0, 1, 0, 0]], [[0, 0, 0, 1]], [[0, 1, 0, 0]], [[1, 0, 0, 0]], [[0, 1, 0, 0]], [[0, 1, 0, 0]], [[0, 0, 0, 1]], [[0, 1, 0, 0]], [[1, 0, 0, 0]], [[0, 1, 0, 0]], [[0, 0, 0, 1]], [[0, 1, 0, 0]], [[0, 1, 0, 0]], [[1, 0, 0, 0]], [[0, 1, 0, 0]], [[0, 0, 0, 1]], [[0, 1, 0, 0]], [[1, 0, 0, 0]], [[0, 0, 0, 1]], [[0, 1, 0, 0]], [[1, 0, 0, 0]], [[0, 0, 1, 0]], [[0, 1, 0, 0]], [[0, 0, 0, 1]], [[0, 0, 1, 0]]]),\n",
       "       list([[[1, 0, 0, 0]], [[1, 0, 0, 0]], [[0, 1, 0, 0]], [[0, 1, 0, 0]], [[0, 1, 0, 0]], [[1, 0, 0, 0]], [[0, 0, 1, 0]], [[0, 0, 0, 1]], [[0, 1, 0, 0]], [[1, 0, 0, 0]], [[1, 0, 0, 0]], [[0, 1, 0, 0]], [[0, 0, 1, 0]], [[1, 0, 0, 0]], [[0, 0, 0, 1]], [[1, 0, 0, 0]], [[1, 0, 0, 0]], [[1, 0, 0, 0]], [[0, 1, 0, 0]], [[1, 0, 0, 0]], [[0, 0, 1, 0]], [[1, 0, 0, 0]], [[0, 0, 0, 1]], [[0, 1, 0, 0]], [[1, 0, 0, 0]], [[0, 0, 1, 0]], [[0, 0, 0, 1]], [[0, 0, 1, 0]], [[0, 0, 0, 1]], [[0, 0, 1, 0]], [[0, 0, 1, 0]], [[0, 1, 0, 0]], [[0, 0, 1, 0]], [[0, 1, 0, 0]], [[0, 0, 1, 0]], [[1, 0, 0, 0]], [[1, 0, 0, 0]], [[1, 0, 0, 0]], [[0, 0, 0, 1]], [[0, 1, 0, 0]], [[0, 0, 1, 0]], [[1, 0, 0, 0]], [[0, 0, 1, 0]], [[0, 0, 1, 0]], [[0, 1, 0, 0]], [[0, 1, 0, 0]], [[0, 1, 0, 0]], [[1, 0, 0, 0]], [[1, 0, 0, 0]], [[0, 0, 0, 1]], [[1, 0, 0, 0]], [[0, 0, 0, 1]], [[0, 1, 0, 0]], [[0, 0, 1, 0]], [[0, 1, 0, 0]], [[0, 0, 1, 0]], [[0, 0, 1, 0]], [[1, 0, 0, 0]], [[1, 0, 0, 0]], [[1, 0, 0, 0]], [[0, 0, 0, 1]], [[0, 0, 1, 0]], [[0, 1, 0, 0]], [[0, 0, 1, 0]], [[0, 0, 0, 1]], [[0, 1, 0, 0]], [[1, 0, 0, 0]], [[0, 0, 1, 0]]])],\n",
       "      dtype=object)"
      ]
     },
     "execution_count": 48,
     "metadata": {},
     "output_type": "execute_result"
    }
   ],
   "source": [
    "first68_train['One_hot seq'].values"
   ]
  },
  {
   "cell_type": "code",
   "execution_count": 49,
   "metadata": {},
   "outputs": [],
   "source": [
    "public_df = test.query(\"seq_length == 107\")\n",
    "private_df = test.query(\"seq_length == 130\")\n",
    "\n",
    "public_inputs = preprocess_inputs(public_df, token2int)\n",
    "private_inputs = preprocess_inputs(private_df, token2int)"
   ]
  },
  {
   "cell_type": "code",
   "execution_count": 50,
   "metadata": {},
   "outputs": [
    {
     "data": {
      "text/plain": [
       "(1887, 68, 5)"
      ]
     },
     "execution_count": 50,
     "metadata": {},
     "output_type": "execute_result"
    }
   ],
   "source": [
    "y_train.shape"
   ]
  },
  {
   "cell_type": "code",
   "execution_count": 51,
   "metadata": {},
   "outputs": [
    {
     "name": "stdout",
     "output_type": "stream",
     "text": [
      "0 layer\n",
      "1 layer\n",
      "2 layer\n",
      "Model: \"functional_5\"\n",
      "_________________________________________________________________\n",
      "Layer (type)                 Output Shape              Param #   \n",
      "=================================================================\n",
      "input_3 (InputLayer)         [(None, 68, 4)]           0         \n",
      "_________________________________________________________________\n",
      "embedding_2 (Embedding)      (None, 68, 4, 200)        800       \n",
      "_________________________________________________________________\n",
      "tf_op_layer_Reshape_2 (Tenso [(None, 68, 800)]         0         \n",
      "_________________________________________________________________\n",
      "spatial_dropout1d_2 (Spatial (None, 68, 800)           0         \n",
      "_________________________________________________________________\n",
      "bidirectional_6 (Bidirection (None, 68, 512)           1625088   \n",
      "_________________________________________________________________\n",
      "bidirectional_7 (Bidirection (None, 68, 512)           1182720   \n",
      "_________________________________________________________________\n",
      "bidirectional_8 (Bidirection (None, 68, 512)           1182720   \n",
      "_________________________________________________________________\n",
      "tf_op_layer_strided_slice_2  [(None, 68, 512)]         0         \n",
      "_________________________________________________________________\n",
      "dense_2 (Dense)              (None, 68, 5)             2565      \n",
      "=================================================================\n",
      "Total params: 3,993,893\n",
      "Trainable params: 3,993,893\n",
      "Non-trainable params: 0\n",
      "_________________________________________________________________\n"
     ]
    }
   ],
   "source": [
    "model = build_model(embed_size=4)\n",
    "model.summary()"
   ]
  },
  {
   "cell_type": "code",
   "execution_count": 52,
   "metadata": {},
   "outputs": [],
   "source": [
    "import warnings\n",
    "def fxn():\n",
    "    warnings.warn(\"deprecated\", DeprecationWarning)\n",
    "with warnings.catch_warnings():\n",
    "    warnings.simplefilter(\"ignore\")\n",
    "    fxn()"
   ]
  },
  {
   "cell_type": "code",
   "execution_count": 53,
   "metadata": {},
   "outputs": [
    {
     "name": "stdout",
     "output_type": "stream",
     "text": [
      "Epoch 1/75\n",
      "Tensor(\"MCRMSE/Mean_1:0\", shape=(None,), dtype=float32)\n",
      "Tensor(\"MCRMSE/Mean_1:0\", shape=(None,), dtype=float32)\n",
      "30/30 [==============================] - ETA: 0s - loss: 0.5618 - accuracy: 0.2419Tensor(\"MCRMSE/Mean_1:0\", shape=(None,), dtype=float32)\n",
      "30/30 [==============================] - 104s 3s/step - loss: 0.5618 - accuracy: 0.2419 - val_loss: 0.4389 - val_accuracy: 0.1820\n",
      "Epoch 2/75\n",
      "30/30 [==============================] - 103s 3s/step - loss: 0.4512 - accuracy: 0.2761 - val_loss: 0.3961 - val_accuracy: 0.3146\n",
      "Epoch 3/75\n",
      "30/30 [==============================] - 106s 4s/step - loss: 0.4205 - accuracy: 0.3137 - val_loss: 0.3883 - val_accuracy: 0.3639\n",
      "Epoch 4/75\n",
      "30/30 [==============================] - 107s 4s/step - loss: 0.3983 - accuracy: 0.3242 - val_loss: 0.3777 - val_accuracy: 0.3570\n",
      "Epoch 5/75\n",
      "30/30 [==============================] - 107s 4s/step - loss: 0.3791 - accuracy: 0.3463 - val_loss: 0.3556 - val_accuracy: 0.3158\n",
      "Epoch 6/75\n",
      "30/30 [==============================] - 106s 4s/step - loss: 0.3712 - accuracy: 0.3555 - val_loss: 0.3637 - val_accuracy: 0.3181\n",
      "Epoch 7/75\n",
      "30/30 [==============================] - 105s 4s/step - loss: 0.3634 - accuracy: 0.3546 - val_loss: 0.3559 - val_accuracy: 0.3868\n",
      "Epoch 8/75\n",
      "30/30 [==============================] - 106s 4s/step - loss: 0.3567 - accuracy: 0.3645 - val_loss: 0.3420 - val_accuracy: 0.3343\n",
      "Epoch 9/75\n",
      "30/30 [==============================] - 105s 4s/step - loss: 0.3499 - accuracy: 0.3642 - val_loss: 0.3338 - val_accuracy: 0.3763\n",
      "Epoch 10/75\n",
      "30/30 [==============================] - 106s 4s/step - loss: 0.3424 - accuracy: 0.3710 - val_loss: 0.3293 - val_accuracy: 0.4098\n",
      "Epoch 11/75\n",
      "30/30 [==============================] - 106s 4s/step - loss: 0.3404 - accuracy: 0.3851 - val_loss: 0.3136 - val_accuracy: 0.3794\n",
      "Epoch 12/75\n",
      "30/30 [==============================] - 106s 4s/step - loss: 0.3333 - accuracy: 0.3842 - val_loss: 0.3224 - val_accuracy: 0.4081\n",
      "Epoch 13/75\n",
      "30/30 [==============================] - 105s 4s/step - loss: 0.3291 - accuracy: 0.3929 - val_loss: 0.3096 - val_accuracy: 0.4223\n",
      "Epoch 14/75\n",
      "30/30 [==============================] - 106s 4s/step - loss: 0.3243 - accuracy: 0.3950 - val_loss: 0.3126 - val_accuracy: 0.3791\n",
      "Epoch 15/75\n",
      "30/30 [==============================] - 107s 4s/step - loss: 0.3199 - accuracy: 0.4012 - val_loss: 0.3004 - val_accuracy: 0.4127\n",
      "Epoch 16/75\n",
      "30/30 [==============================] - 105s 3s/step - loss: 0.3162 - accuracy: 0.4014 - val_loss: 0.3246 - val_accuracy: 0.3585\n",
      "Epoch 17/75\n",
      "30/30 [==============================] - 107s 4s/step - loss: 0.3108 - accuracy: 0.4091 - val_loss: 0.3094 - val_accuracy: 0.4004\n",
      "Epoch 18/75\n",
      "30/30 [==============================] - 106s 4s/step - loss: 0.3068 - accuracy: 0.4111 - val_loss: 0.3016 - val_accuracy: 0.3789\n",
      "Epoch 19/75\n",
      "30/30 [==============================] - 106s 4s/step - loss: 0.3030 - accuracy: 0.4094 - val_loss: 0.2982 - val_accuracy: 0.4289\n",
      "Epoch 20/75\n",
      "30/30 [==============================] - 111s 4s/step - loss: 0.2995 - accuracy: 0.4175 - val_loss: 0.2938 - val_accuracy: 0.4083\n",
      "Epoch 21/75\n",
      "30/30 [==============================] - 105s 4s/step - loss: 0.2978 - accuracy: 0.4176 - val_loss: 0.2950 - val_accuracy: 0.3964\n",
      "Epoch 22/75\n",
      "30/30 [==============================] - 105s 4s/step - loss: 0.2935 - accuracy: 0.4192 - val_loss: 0.2840 - val_accuracy: 0.4104\n",
      "Epoch 23/75\n",
      "30/30 [==============================] - 107s 4s/step - loss: 0.2899 - accuracy: 0.4223 - val_loss: 0.2978 - val_accuracy: 0.3881\n",
      "Epoch 24/75\n",
      "30/30 [==============================] - 104s 3s/step - loss: 0.2868 - accuracy: 0.4232 - val_loss: 0.3075 - val_accuracy: 0.4307\n",
      "Epoch 25/75\n",
      "30/30 [==============================] - 103s 3s/step - loss: 0.2845 - accuracy: 0.4323 - val_loss: 0.2812 - val_accuracy: 0.4241\n",
      "Epoch 26/75\n",
      "30/30 [==============================] - 102s 3s/step - loss: 0.2827 - accuracy: 0.4323 - val_loss: 0.2874 - val_accuracy: 0.4252\n",
      "Epoch 27/75\n",
      "30/30 [==============================] - 103s 3s/step - loss: 0.2799 - accuracy: 0.4349 - val_loss: 0.2797 - val_accuracy: 0.4441\n",
      "Epoch 28/75\n",
      "30/30 [==============================] - 102s 3s/step - loss: 0.2767 - accuracy: 0.4336 - val_loss: 0.2885 - val_accuracy: 0.4237\n",
      "Epoch 29/75\n",
      "30/30 [==============================] - 102s 3s/step - loss: 0.2750 - accuracy: 0.4390 - val_loss: 0.2780 - val_accuracy: 0.4340\n",
      "Epoch 30/75\n",
      "30/30 [==============================] - 102s 3s/step - loss: 0.2725 - accuracy: 0.4454 - val_loss: 0.2825 - val_accuracy: 0.4173\n",
      "Epoch 31/75\n",
      "30/30 [==============================] - 104s 3s/step - loss: 0.2729 - accuracy: 0.4460 - val_loss: 0.2735 - val_accuracy: 0.4407\n",
      "Epoch 32/75\n",
      "30/30 [==============================] - 107s 4s/step - loss: 0.2677 - accuracy: 0.4458 - val_loss: 0.2772 - val_accuracy: 0.4472\n",
      "Epoch 33/75\n",
      "30/30 [==============================] - 106s 4s/step - loss: 0.2654 - accuracy: 0.4501 - val_loss: 0.2756 - val_accuracy: 0.4399\n",
      "Epoch 34/75\n",
      "30/30 [==============================] - 104s 3s/step - loss: 0.2638 - accuracy: 0.4531 - val_loss: 0.2794 - val_accuracy: 0.4464\n",
      "Epoch 35/75\n",
      "30/30 [==============================] - 105s 3s/step - loss: 0.2613 - accuracy: 0.4515 - val_loss: 0.2787 - val_accuracy: 0.4308\n",
      "Epoch 36/75\n",
      "30/30 [==============================] - 104s 3s/step - loss: 0.2603 - accuracy: 0.4546 - val_loss: 0.2751 - val_accuracy: 0.4499\n",
      "Epoch 37/75\n",
      "30/30 [==============================] - 103s 3s/step - loss: 0.2474 - accuracy: 0.4726 - val_loss: 0.2628 - val_accuracy: 0.4679\n",
      "Epoch 38/75\n",
      "30/30 [==============================] - 103s 3s/step - loss: 0.2445 - accuracy: 0.4724 - val_loss: 0.2625 - val_accuracy: 0.4717\n",
      "Epoch 39/75\n",
      "30/30 [==============================] - 104s 3s/step - loss: 0.2436 - accuracy: 0.4731 - val_loss: 0.2629 - val_accuracy: 0.4672\n",
      "Epoch 40/75\n",
      "30/30 [==============================] - 104s 3s/step - loss: 0.2422 - accuracy: 0.4752 - val_loss: 0.2629 - val_accuracy: 0.4702\n",
      "Epoch 41/75\n",
      "30/30 [==============================] - 109s 4s/step - loss: 0.2419 - accuracy: 0.4758 - val_loss: 0.2626 - val_accuracy: 0.4693\n",
      "Epoch 42/75\n",
      "30/30 [==============================] - 107s 4s/step - loss: 0.2412 - accuracy: 0.4765 - val_loss: 0.2634 - val_accuracy: 0.4704\n",
      "Epoch 43/75\n",
      "30/30 [==============================] - 104s 3s/step - loss: 0.2408 - accuracy: 0.4757 - val_loss: 0.2619 - val_accuracy: 0.4724\n",
      "Epoch 44/75\n",
      "30/30 [==============================] - 104s 3s/step - loss: 0.2404 - accuracy: 0.4785 - val_loss: 0.2627 - val_accuracy: 0.4734\n",
      "Epoch 45/75\n",
      "30/30 [==============================] - 104s 3s/step - loss: 0.2398 - accuracy: 0.4771 - val_loss: 0.2623 - val_accuracy: 0.4737\n",
      "Epoch 46/75\n",
      "30/30 [==============================] - 104s 3s/step - loss: 0.2391 - accuracy: 0.4777 - val_loss: 0.2627 - val_accuracy: 0.4735\n",
      "Epoch 47/75\n",
      "30/30 [==============================] - 104s 3s/step - loss: 0.2387 - accuracy: 0.4785 - val_loss: 0.2633 - val_accuracy: 0.4721\n",
      "Epoch 48/75\n",
      "30/30 [==============================] - 104s 3s/step - loss: 0.2384 - accuracy: 0.4787 - val_loss: 0.2629 - val_accuracy: 0.4698\n",
      "Epoch 49/75\n",
      "30/30 [==============================] - 104s 3s/step - loss: 0.2374 - accuracy: 0.4804 - val_loss: 0.2627 - val_accuracy: 0.4718\n",
      "Epoch 50/75\n",
      "30/30 [==============================] - 104s 3s/step - loss: 0.2374 - accuracy: 0.4811 - val_loss: 0.2626 - val_accuracy: 0.4728\n",
      "Epoch 51/75\n",
      "30/30 [==============================] - 104s 3s/step - loss: 0.2373 - accuracy: 0.4804 - val_loss: 0.2627 - val_accuracy: 0.4717\n",
      "Epoch 52/75\n",
      "30/30 [==============================] - 104s 3s/step - loss: 0.2373 - accuracy: 0.4812 - val_loss: 0.2626 - val_accuracy: 0.4720\n",
      "Epoch 53/75\n",
      "30/30 [==============================] - 106s 4s/step - loss: 0.2371 - accuracy: 0.4800 - val_loss: 0.2626 - val_accuracy: 0.4734\n",
      "Epoch 54/75\n",
      "30/30 [==============================] - 104s 3s/step - loss: 0.2368 - accuracy: 0.4809 - val_loss: 0.2626 - val_accuracy: 0.4734\n",
      "Epoch 55/75\n",
      "30/30 [==============================] - 105s 4s/step - loss: 0.2372 - accuracy: 0.4791 - val_loss: 0.2626 - val_accuracy: 0.4733\n",
      "Epoch 56/75\n",
      "30/30 [==============================] - 105s 3s/step - loss: 0.2368 - accuracy: 0.4804 - val_loss: 0.2626 - val_accuracy: 0.4735\n"
     ]
    },
    {
     "name": "stdout",
     "output_type": "stream",
     "text": [
      "Epoch 57/75\n",
      "30/30 [==============================] - 105s 3s/step - loss: 0.2369 - accuracy: 0.4811 - val_loss: 0.2626 - val_accuracy: 0.4734\n",
      "Epoch 58/75\n",
      "30/30 [==============================] - 105s 3s/step - loss: 0.2364 - accuracy: 0.4804 - val_loss: 0.2626 - val_accuracy: 0.4732\n",
      "Epoch 59/75\n",
      "30/30 [==============================] - 106s 4s/step - loss: 0.2368 - accuracy: 0.4805 - val_loss: 0.2626 - val_accuracy: 0.4732\n",
      "Epoch 60/75\n",
      "30/30 [==============================] - 105s 3s/step - loss: 0.2367 - accuracy: 0.4804 - val_loss: 0.2626 - val_accuracy: 0.4732\n",
      "Epoch 61/75\n",
      "30/30 [==============================] - 105s 3s/step - loss: 0.2370 - accuracy: 0.4807 - val_loss: 0.2626 - val_accuracy: 0.4732\n",
      "Epoch 62/75\n",
      "30/30 [==============================] - 104s 3s/step - loss: 0.2370 - accuracy: 0.4811 - val_loss: 0.2626 - val_accuracy: 0.4732\n",
      "Epoch 63/75\n",
      "30/30 [==============================] - 105s 3s/step - loss: 0.2369 - accuracy: 0.4799 - val_loss: 0.2626 - val_accuracy: 0.4732\n",
      "Epoch 64/75\n",
      "30/30 [==============================] - 105s 4s/step - loss: 0.2371 - accuracy: 0.4796 - val_loss: 0.2626 - val_accuracy: 0.4732\n",
      "Epoch 65/75\n",
      "30/30 [==============================] - 105s 3s/step - loss: 0.2367 - accuracy: 0.4804 - val_loss: 0.2626 - val_accuracy: 0.4732\n",
      "Epoch 66/75\n",
      "30/30 [==============================] - 105s 3s/step - loss: 0.2368 - accuracy: 0.4799 - val_loss: 0.2626 - val_accuracy: 0.4732\n",
      "Epoch 67/75\n",
      "30/30 [==============================] - 105s 3s/step - loss: 0.2367 - accuracy: 0.4800 - val_loss: 0.2626 - val_accuracy: 0.4732\n",
      "Epoch 68/75\n",
      "30/30 [==============================] - 105s 3s/step - loss: 0.2368 - accuracy: 0.4804 - val_loss: 0.2626 - val_accuracy: 0.4732\n",
      "Epoch 69/75\n",
      "30/30 [==============================] - 104s 3s/step - loss: 0.2368 - accuracy: 0.4800 - val_loss: 0.2626 - val_accuracy: 0.4732\n",
      "Epoch 70/75\n",
      "30/30 [==============================] - 106s 4s/step - loss: 0.2370 - accuracy: 0.4817 - val_loss: 0.2626 - val_accuracy: 0.4732\n",
      "Epoch 71/75\n",
      "30/30 [==============================] - 107s 4s/step - loss: 0.2369 - accuracy: 0.4799 - val_loss: 0.2626 - val_accuracy: 0.4732\n",
      "Epoch 72/75\n",
      "30/30 [==============================] - 105s 4s/step - loss: 0.2368 - accuracy: 0.4797 - val_loss: 0.2626 - val_accuracy: 0.4732\n",
      "Epoch 73/75\n",
      "30/30 [==============================] - 105s 4s/step - loss: 0.2368 - accuracy: 0.4797 - val_loss: 0.2626 - val_accuracy: 0.4732\n",
      "Epoch 74/75\n",
      "30/30 [==============================] - 105s 3s/step - loss: 0.2369 - accuracy: 0.4790 - val_loss: 0.2626 - val_accuracy: 0.4732\n",
      "Epoch 75/75\n",
      "30/30 [==============================] - 105s 4s/step - loss: 0.2368 - accuracy: 0.4800 - val_loss: 0.2626 - val_accuracy: 0.4732\n"
     ]
    }
   ],
   "source": [
    "history = model.fit(\n",
    "    x_train, y_train,\n",
    "    validation_data=(x_val, y_val),\n",
    "    batch_size=64,\n",
    "    epochs=75,\n",
    "    verbose=1,\n",
    "    callbacks=[\n",
    "        tf.keras.callbacks.ReduceLROnPlateau(patience=5),\n",
    "        tf.keras.callbacks.ModelCheckpoint('model.h5')\n",
    "    ]\n",
    ")\n",
    "#1 :  linear, rmsprop, 1layer,   45    : loss: 0.2506 - accuracy: 0.4689 - val_loss: 0.2724 - val_accuracy: 0.4438\n",
    "#2 :  relu,   rmsprop, 1layer,   45    : loss: 0.2744 - accuracy: 0.4596 - val_loss: 0.2856 - val_accuracy: 0.4480\n",
    "#3 :  linear, rmsprop, 3layer,   45    : loss: 0.2428 - accuracy: 0.4666 - val_loss: 0.2824 - val_accuracy: 0.4630\n",
    "#4 :  linear, rmsprop, 2layers,  45    : loss: 0.2497 - accuracy: 0.4642 - val_loss: 0.2802 - val_accuracy: 0.4513\n",
    "#6 :  linear, rmsprop, 3layers,  75    : loss: 0.2368 - accuracy: 0.4800 - val_loss: 0.2626 - val_accuracy: 0.4732\n",
    "#pour le dernier vers 50 ça se stabilise"
   ]
  },
  {
   "cell_type": "markdown",
   "metadata": {},
   "source": [
    "- 1 layer, Activation relu, Optimization RMSprop:\n",
    "    Epoch 45/45\n",
    "30/30 [==============================] - 47s 2s/step - loss: 0.2739 - val_loss: 0.2852"
   ]
  },
  {
   "cell_type": "code",
   "execution_count": 36,
   "metadata": {},
   "outputs": [
    {
     "data": {
      "text/plain": [
       "15.25233644859813"
      ]
     },
     "execution_count": 36,
     "metadata": {},
     "output_type": "execute_result"
    }
   ],
   "source": [
    "1305600/85600"
   ]
  },
  {
   "cell_type": "code",
   "execution_count": 54,
   "metadata": {},
   "outputs": [
    {
     "data": {
      "application/vnd.plotly.v1+json": {
       "config": {
        "plotlyServerURL": "https://plot.ly"
       },
       "data": [
        {
         "hovertemplate": "variable=loss<br>epoch=%{x}<br>MCRMSE=%{y}<extra></extra>",
         "legendgroup": "loss",
         "line": {
          "color": "#636efa",
          "dash": "solid"
         },
         "mode": "lines",
         "name": "loss",
         "orientation": "v",
         "showlegend": true,
         "type": "scatter",
         "x": [
          0,
          1,
          2,
          3,
          4,
          5,
          6,
          7,
          8,
          9,
          10,
          11,
          12,
          13,
          14,
          15,
          16,
          17,
          18,
          19,
          20,
          21,
          22,
          23,
          24,
          25,
          26,
          27,
          28,
          29,
          30,
          31,
          32,
          33,
          34,
          35,
          36,
          37,
          38,
          39,
          40,
          41,
          42,
          43,
          44,
          45,
          46,
          47,
          48,
          49,
          50,
          51,
          52,
          53,
          54,
          55,
          56,
          57,
          58,
          59,
          60,
          61,
          62,
          63,
          64,
          65,
          66,
          67,
          68,
          69,
          70,
          71,
          72,
          73,
          74
         ],
         "xaxis": "x",
         "y": [
          0.5617567896842957,
          0.45122280716896057,
          0.4205242395401001,
          0.3982808291912079,
          0.37911102175712585,
          0.3712459206581116,
          0.3633610010147095,
          0.35670024156570435,
          0.34994757175445557,
          0.34244173765182495,
          0.3404032289981842,
          0.33331623673439026,
          0.32908764481544495,
          0.3243427872657776,
          0.31994521617889404,
          0.3161919116973877,
          0.3107847273349762,
          0.3067956864833832,
          0.3029562830924988,
          0.29953765869140625,
          0.2978174388408661,
          0.2935359477996826,
          0.28986963629722595,
          0.2868339419364929,
          0.28450390696525574,
          0.28266558051109314,
          0.27989649772644043,
          0.2767132520675659,
          0.274968683719635,
          0.27254822850227356,
          0.27293720841407776,
          0.2677270174026489,
          0.2653863728046417,
          0.2637542188167572,
          0.26134610176086426,
          0.26031216979026794,
          0.24735301733016968,
          0.24449749290943146,
          0.24358563125133514,
          0.2422260046005249,
          0.24190670251846313,
          0.2412080466747284,
          0.24083493649959564,
          0.24040937423706055,
          0.23979972302913666,
          0.23907552659511566,
          0.2386562079191208,
          0.23838116228580475,
          0.23741433024406433,
          0.2373514026403427,
          0.23727042973041534,
          0.23726150393486023,
          0.2371140867471695,
          0.23677518963813782,
          0.23717182874679565,
          0.2367725372314453,
          0.2369289994239807,
          0.23637793958187103,
          0.23681004345417023,
          0.23671573400497437,
          0.2369910478591919,
          0.23703667521476746,
          0.23693007230758667,
          0.2370838224887848,
          0.23666617274284363,
          0.2368406504392624,
          0.23672910034656525,
          0.23679119348526,
          0.2367883175611496,
          0.23700809478759766,
          0.23687365651130676,
          0.2368396669626236,
          0.2368372678756714,
          0.23692303895950317,
          0.2368341088294983
         ],
         "yaxis": "y"
        },
        {
         "hovertemplate": "variable=accuracy<br>epoch=%{x}<br>MCRMSE=%{y}<extra></extra>",
         "legendgroup": "accuracy",
         "line": {
          "color": "#EF553B",
          "dash": "solid"
         },
         "mode": "lines",
         "name": "accuracy",
         "orientation": "v",
         "showlegend": true,
         "type": "scatter",
         "x": [
          0,
          1,
          2,
          3,
          4,
          5,
          6,
          7,
          8,
          9,
          10,
          11,
          12,
          13,
          14,
          15,
          16,
          17,
          18,
          19,
          20,
          21,
          22,
          23,
          24,
          25,
          26,
          27,
          28,
          29,
          30,
          31,
          32,
          33,
          34,
          35,
          36,
          37,
          38,
          39,
          40,
          41,
          42,
          43,
          44,
          45,
          46,
          47,
          48,
          49,
          50,
          51,
          52,
          53,
          54,
          55,
          56,
          57,
          58,
          59,
          60,
          61,
          62,
          63,
          64,
          65,
          66,
          67,
          68,
          69,
          70,
          71,
          72,
          73,
          74
         ],
         "xaxis": "x",
         "y": [
          0.24190279841423035,
          0.27606067061424255,
          0.31374886631965637,
          0.3242074251174927,
          0.3463402986526489,
          0.35552075505256653,
          0.35464009642601013,
          0.3644829988479614,
          0.3642258048057556,
          0.37104493379592896,
          0.38513514399528503,
          0.3842233121395111,
          0.3929206132888794,
          0.39502477645874023,
          0.4012126326560974,
          0.401391863822937,
          0.40909162163734436,
          0.4111178517341614,
          0.4094267189502716,
          0.4175083339214325,
          0.41761744022369385,
          0.4192306399345398,
          0.4223245680332184,
          0.423189640045166,
          0.4322921633720398,
          0.4323311150074005,
          0.4348561465740204,
          0.43355464935302734,
          0.4390489161014557,
          0.44538483023643494,
          0.4459848999977112,
          0.44578227400779724,
          0.4501153528690338,
          0.4530767798423767,
          0.4514557719230652,
          0.45455750823020935,
          0.47255992889404297,
          0.47239628434181213,
          0.47314441204071045,
          0.4752252399921417,
          0.4758175015449524,
          0.47645655274391174,
          0.4757317900657654,
          0.4785061776638031,
          0.4770878255367279,
          0.47774243354797363,
          0.4785451591014862,
          0.4786932170391083,
          0.48043110966682434,
          0.48112472891807556,
          0.4804155230522156,
          0.48122602701187134,
          0.47998690605163574,
          0.4808753430843353,
          0.4791296422481537,
          0.4804155230522156,
          0.4810623824596405,
          0.48038434982299805,
          0.4805324375629425,
          0.4804389178752899,
          0.4806727170944214,
          0.4810545742511749,
          0.47990119457244873,
          0.47962063550949097,
          0.4804077446460724,
          0.479947954416275,
          0.47998690605163574,
          0.48042333126068115,
          0.48001807928085327,
          0.4817326068878174,
          0.4799089729785919,
          0.4796907603740692,
          0.479682981967926,
          0.47900494933128357,
          0.47998690605163574
         ],
         "yaxis": "y"
        },
        {
         "hovertemplate": "variable=val_loss<br>epoch=%{x}<br>MCRMSE=%{y}<extra></extra>",
         "legendgroup": "val_loss",
         "line": {
          "color": "#00cc96",
          "dash": "solid"
         },
         "mode": "lines",
         "name": "val_loss",
         "orientation": "v",
         "showlegend": true,
         "type": "scatter",
         "x": [
          0,
          1,
          2,
          3,
          4,
          5,
          6,
          7,
          8,
          9,
          10,
          11,
          12,
          13,
          14,
          15,
          16,
          17,
          18,
          19,
          20,
          21,
          22,
          23,
          24,
          25,
          26,
          27,
          28,
          29,
          30,
          31,
          32,
          33,
          34,
          35,
          36,
          37,
          38,
          39,
          40,
          41,
          42,
          43,
          44,
          45,
          46,
          47,
          48,
          49,
          50,
          51,
          52,
          53,
          54,
          55,
          56,
          57,
          58,
          59,
          60,
          61,
          62,
          63,
          64,
          65,
          66,
          67,
          68,
          69,
          70,
          71,
          72,
          73,
          74
         ],
         "xaxis": "x",
         "y": [
          0.43893980979919434,
          0.39614641666412354,
          0.38833844661712646,
          0.37767231464385986,
          0.35556212067604065,
          0.36368855834007263,
          0.3558785915374756,
          0.34204816818237305,
          0.33381304144859314,
          0.32932931184768677,
          0.3135705888271332,
          0.3224393427371979,
          0.309632807970047,
          0.312583863735199,
          0.3003823459148407,
          0.3246169686317444,
          0.30942440032958984,
          0.3015744090080261,
          0.29816749691963196,
          0.2938355505466461,
          0.29496508836746216,
          0.28402620553970337,
          0.2977868616580963,
          0.3074739873409271,
          0.2811974883079529,
          0.2874493896961212,
          0.27968984842300415,
          0.28845271468162537,
          0.2780320346355438,
          0.2825007140636444,
          0.27349144220352173,
          0.2771715223789215,
          0.2756265103816986,
          0.27937939763069153,
          0.2786773443222046,
          0.27511152625083923,
          0.2627968490123749,
          0.2625167965888977,
          0.2628624439239502,
          0.262917697429657,
          0.2626221477985382,
          0.2634044885635376,
          0.2619372010231018,
          0.2626958191394806,
          0.26233893632888794,
          0.2627389132976532,
          0.26325052976608276,
          0.26292482018470764,
          0.26271334290504456,
          0.2625828683376312,
          0.2626827657222748,
          0.26264122128486633,
          0.2626047134399414,
          0.26259732246398926,
          0.26258429884910583,
          0.26258426904678345,
          0.26257628202438354,
          0.2625693678855896,
          0.2625701427459717,
          0.2625701129436493,
          0.26256856322288513,
          0.262567937374115,
          0.2625676691532135,
          0.2625676393508911,
          0.2625677287578583,
          0.2625674903392792,
          0.2625674605369568,
          0.262567400932312,
          0.262567400932312,
          0.262567400932312,
          0.262567400932312,
          0.262567400932312,
          0.262567400932312,
          0.262567400932312,
          0.262567400932312
         ],
         "yaxis": "y"
        },
        {
         "hovertemplate": "variable=val_accuracy<br>epoch=%{x}<br>MCRMSE=%{y}<extra></extra>",
         "legendgroup": "val_accuracy",
         "line": {
          "color": "#ab63fa",
          "dash": "solid"
         },
         "mode": "lines",
         "name": "val_accuracy",
         "orientation": "v",
         "showlegend": true,
         "type": "scatter",
         "x": [
          0,
          1,
          2,
          3,
          4,
          5,
          6,
          7,
          8,
          9,
          10,
          11,
          12,
          13,
          14,
          15,
          16,
          17,
          18,
          19,
          20,
          21,
          22,
          23,
          24,
          25,
          26,
          27,
          28,
          29,
          30,
          31,
          32,
          33,
          34,
          35,
          36,
          37,
          38,
          39,
          40,
          41,
          42,
          43,
          44,
          45,
          46,
          47,
          48,
          49,
          50,
          51,
          52,
          53,
          54,
          55,
          56,
          57,
          58,
          59,
          60,
          61,
          62,
          63,
          64,
          65,
          66,
          67,
          68,
          69,
          70,
          71,
          72,
          73,
          74
         ],
         "xaxis": "x",
         "y": [
          0.18200279772281647,
          0.31456583738327026,
          0.36393555998802185,
          0.35700279474258423,
          0.31582632660865784,
          0.3181372582912445,
          0.3867647051811218,
          0.3343137204647064,
          0.37626051902770996,
          0.40980392694473267,
          0.3794117569923401,
          0.408123254776001,
          0.42226889729499817,
          0.37906163930892944,
          0.41267508268356323,
          0.35847339034080505,
          0.4003501534461975,
          0.3789215683937073,
          0.42885154485702515,
          0.40833333134651184,
          0.39635854959487915,
          0.41036415100097656,
          0.3880952298641205,
          0.4307422935962677,
          0.424089640378952,
          0.4252100884914398,
          0.44411763548851013,
          0.4236694574356079,
          0.43403360247612,
          0.4172969162464142,
          0.44068628549575806,
          0.44719886779785156,
          0.4399159550666809,
          0.4464285671710968,
          0.4308123290538788,
          0.44992998242378235,
          0.46792715787887573,
          0.4717086851596832,
          0.46722689270973206,
          0.4701680541038513,
          0.4693277180194855,
          0.47037816047668457,
          0.4724089503288269,
          0.4733893573284149,
          0.47373950481414795,
          0.4735293984413147,
          0.47212883830070496,
          0.4698179364204407,
          0.471848726272583,
          0.47275909781455994,
          0.4717086851596832,
          0.4719887971878052,
          0.4733893573284149,
          0.4733893573284149,
          0.47331932187080383,
          0.473459392786026,
          0.4733893573284149,
          0.47317928075790405,
          0.47317928075790405,
          0.47317928075790405,
          0.47317928075790405,
          0.47317928075790405,
          0.47324928641319275,
          0.47317928075790405,
          0.47324928641319275,
          0.47317928075790405,
          0.47324928641319275,
          0.47324928641319275,
          0.47324928641319275,
          0.47324928641319275,
          0.47324928641319275,
          0.47324928641319275,
          0.47324928641319275,
          0.47324928641319275,
          0.47324928641319275
         ],
         "yaxis": "y"
        }
       ],
       "layout": {
        "legend": {
         "title": {
          "text": "variable"
         },
         "tracegroupgap": 0
        },
        "template": {
         "data": {
          "bar": [
           {
            "error_x": {
             "color": "#2a3f5f"
            },
            "error_y": {
             "color": "#2a3f5f"
            },
            "marker": {
             "line": {
              "color": "#E5ECF6",
              "width": 0.5
             }
            },
            "type": "bar"
           }
          ],
          "barpolar": [
           {
            "marker": {
             "line": {
              "color": "#E5ECF6",
              "width": 0.5
             }
            },
            "type": "barpolar"
           }
          ],
          "carpet": [
           {
            "aaxis": {
             "endlinecolor": "#2a3f5f",
             "gridcolor": "white",
             "linecolor": "white",
             "minorgridcolor": "white",
             "startlinecolor": "#2a3f5f"
            },
            "baxis": {
             "endlinecolor": "#2a3f5f",
             "gridcolor": "white",
             "linecolor": "white",
             "minorgridcolor": "white",
             "startlinecolor": "#2a3f5f"
            },
            "type": "carpet"
           }
          ],
          "choropleth": [
           {
            "colorbar": {
             "outlinewidth": 0,
             "ticks": ""
            },
            "type": "choropleth"
           }
          ],
          "contour": [
           {
            "colorbar": {
             "outlinewidth": 0,
             "ticks": ""
            },
            "colorscale": [
             [
              0,
              "#0d0887"
             ],
             [
              0.1111111111111111,
              "#46039f"
             ],
             [
              0.2222222222222222,
              "#7201a8"
             ],
             [
              0.3333333333333333,
              "#9c179e"
             ],
             [
              0.4444444444444444,
              "#bd3786"
             ],
             [
              0.5555555555555556,
              "#d8576b"
             ],
             [
              0.6666666666666666,
              "#ed7953"
             ],
             [
              0.7777777777777778,
              "#fb9f3a"
             ],
             [
              0.8888888888888888,
              "#fdca26"
             ],
             [
              1,
              "#f0f921"
             ]
            ],
            "type": "contour"
           }
          ],
          "contourcarpet": [
           {
            "colorbar": {
             "outlinewidth": 0,
             "ticks": ""
            },
            "type": "contourcarpet"
           }
          ],
          "heatmap": [
           {
            "colorbar": {
             "outlinewidth": 0,
             "ticks": ""
            },
            "colorscale": [
             [
              0,
              "#0d0887"
             ],
             [
              0.1111111111111111,
              "#46039f"
             ],
             [
              0.2222222222222222,
              "#7201a8"
             ],
             [
              0.3333333333333333,
              "#9c179e"
             ],
             [
              0.4444444444444444,
              "#bd3786"
             ],
             [
              0.5555555555555556,
              "#d8576b"
             ],
             [
              0.6666666666666666,
              "#ed7953"
             ],
             [
              0.7777777777777778,
              "#fb9f3a"
             ],
             [
              0.8888888888888888,
              "#fdca26"
             ],
             [
              1,
              "#f0f921"
             ]
            ],
            "type": "heatmap"
           }
          ],
          "heatmapgl": [
           {
            "colorbar": {
             "outlinewidth": 0,
             "ticks": ""
            },
            "colorscale": [
             [
              0,
              "#0d0887"
             ],
             [
              0.1111111111111111,
              "#46039f"
             ],
             [
              0.2222222222222222,
              "#7201a8"
             ],
             [
              0.3333333333333333,
              "#9c179e"
             ],
             [
              0.4444444444444444,
              "#bd3786"
             ],
             [
              0.5555555555555556,
              "#d8576b"
             ],
             [
              0.6666666666666666,
              "#ed7953"
             ],
             [
              0.7777777777777778,
              "#fb9f3a"
             ],
             [
              0.8888888888888888,
              "#fdca26"
             ],
             [
              1,
              "#f0f921"
             ]
            ],
            "type": "heatmapgl"
           }
          ],
          "histogram": [
           {
            "marker": {
             "colorbar": {
              "outlinewidth": 0,
              "ticks": ""
             }
            },
            "type": "histogram"
           }
          ],
          "histogram2d": [
           {
            "colorbar": {
             "outlinewidth": 0,
             "ticks": ""
            },
            "colorscale": [
             [
              0,
              "#0d0887"
             ],
             [
              0.1111111111111111,
              "#46039f"
             ],
             [
              0.2222222222222222,
              "#7201a8"
             ],
             [
              0.3333333333333333,
              "#9c179e"
             ],
             [
              0.4444444444444444,
              "#bd3786"
             ],
             [
              0.5555555555555556,
              "#d8576b"
             ],
             [
              0.6666666666666666,
              "#ed7953"
             ],
             [
              0.7777777777777778,
              "#fb9f3a"
             ],
             [
              0.8888888888888888,
              "#fdca26"
             ],
             [
              1,
              "#f0f921"
             ]
            ],
            "type": "histogram2d"
           }
          ],
          "histogram2dcontour": [
           {
            "colorbar": {
             "outlinewidth": 0,
             "ticks": ""
            },
            "colorscale": [
             [
              0,
              "#0d0887"
             ],
             [
              0.1111111111111111,
              "#46039f"
             ],
             [
              0.2222222222222222,
              "#7201a8"
             ],
             [
              0.3333333333333333,
              "#9c179e"
             ],
             [
              0.4444444444444444,
              "#bd3786"
             ],
             [
              0.5555555555555556,
              "#d8576b"
             ],
             [
              0.6666666666666666,
              "#ed7953"
             ],
             [
              0.7777777777777778,
              "#fb9f3a"
             ],
             [
              0.8888888888888888,
              "#fdca26"
             ],
             [
              1,
              "#f0f921"
             ]
            ],
            "type": "histogram2dcontour"
           }
          ],
          "mesh3d": [
           {
            "colorbar": {
             "outlinewidth": 0,
             "ticks": ""
            },
            "type": "mesh3d"
           }
          ],
          "parcoords": [
           {
            "line": {
             "colorbar": {
              "outlinewidth": 0,
              "ticks": ""
             }
            },
            "type": "parcoords"
           }
          ],
          "pie": [
           {
            "automargin": true,
            "type": "pie"
           }
          ],
          "scatter": [
           {
            "marker": {
             "colorbar": {
              "outlinewidth": 0,
              "ticks": ""
             }
            },
            "type": "scatter"
           }
          ],
          "scatter3d": [
           {
            "line": {
             "colorbar": {
              "outlinewidth": 0,
              "ticks": ""
             }
            },
            "marker": {
             "colorbar": {
              "outlinewidth": 0,
              "ticks": ""
             }
            },
            "type": "scatter3d"
           }
          ],
          "scattercarpet": [
           {
            "marker": {
             "colorbar": {
              "outlinewidth": 0,
              "ticks": ""
             }
            },
            "type": "scattercarpet"
           }
          ],
          "scattergeo": [
           {
            "marker": {
             "colorbar": {
              "outlinewidth": 0,
              "ticks": ""
             }
            },
            "type": "scattergeo"
           }
          ],
          "scattergl": [
           {
            "marker": {
             "colorbar": {
              "outlinewidth": 0,
              "ticks": ""
             }
            },
            "type": "scattergl"
           }
          ],
          "scattermapbox": [
           {
            "marker": {
             "colorbar": {
              "outlinewidth": 0,
              "ticks": ""
             }
            },
            "type": "scattermapbox"
           }
          ],
          "scatterpolar": [
           {
            "marker": {
             "colorbar": {
              "outlinewidth": 0,
              "ticks": ""
             }
            },
            "type": "scatterpolar"
           }
          ],
          "scatterpolargl": [
           {
            "marker": {
             "colorbar": {
              "outlinewidth": 0,
              "ticks": ""
             }
            },
            "type": "scatterpolargl"
           }
          ],
          "scatterternary": [
           {
            "marker": {
             "colorbar": {
              "outlinewidth": 0,
              "ticks": ""
             }
            },
            "type": "scatterternary"
           }
          ],
          "surface": [
           {
            "colorbar": {
             "outlinewidth": 0,
             "ticks": ""
            },
            "colorscale": [
             [
              0,
              "#0d0887"
             ],
             [
              0.1111111111111111,
              "#46039f"
             ],
             [
              0.2222222222222222,
              "#7201a8"
             ],
             [
              0.3333333333333333,
              "#9c179e"
             ],
             [
              0.4444444444444444,
              "#bd3786"
             ],
             [
              0.5555555555555556,
              "#d8576b"
             ],
             [
              0.6666666666666666,
              "#ed7953"
             ],
             [
              0.7777777777777778,
              "#fb9f3a"
             ],
             [
              0.8888888888888888,
              "#fdca26"
             ],
             [
              1,
              "#f0f921"
             ]
            ],
            "type": "surface"
           }
          ],
          "table": [
           {
            "cells": {
             "fill": {
              "color": "#EBF0F8"
             },
             "line": {
              "color": "white"
             }
            },
            "header": {
             "fill": {
              "color": "#C8D4E3"
             },
             "line": {
              "color": "white"
             }
            },
            "type": "table"
           }
          ]
         },
         "layout": {
          "annotationdefaults": {
           "arrowcolor": "#2a3f5f",
           "arrowhead": 0,
           "arrowwidth": 1
          },
          "coloraxis": {
           "colorbar": {
            "outlinewidth": 0,
            "ticks": ""
           }
          },
          "colorscale": {
           "diverging": [
            [
             0,
             "#8e0152"
            ],
            [
             0.1,
             "#c51b7d"
            ],
            [
             0.2,
             "#de77ae"
            ],
            [
             0.3,
             "#f1b6da"
            ],
            [
             0.4,
             "#fde0ef"
            ],
            [
             0.5,
             "#f7f7f7"
            ],
            [
             0.6,
             "#e6f5d0"
            ],
            [
             0.7,
             "#b8e186"
            ],
            [
             0.8,
             "#7fbc41"
            ],
            [
             0.9,
             "#4d9221"
            ],
            [
             1,
             "#276419"
            ]
           ],
           "sequential": [
            [
             0,
             "#0d0887"
            ],
            [
             0.1111111111111111,
             "#46039f"
            ],
            [
             0.2222222222222222,
             "#7201a8"
            ],
            [
             0.3333333333333333,
             "#9c179e"
            ],
            [
             0.4444444444444444,
             "#bd3786"
            ],
            [
             0.5555555555555556,
             "#d8576b"
            ],
            [
             0.6666666666666666,
             "#ed7953"
            ],
            [
             0.7777777777777778,
             "#fb9f3a"
            ],
            [
             0.8888888888888888,
             "#fdca26"
            ],
            [
             1,
             "#f0f921"
            ]
           ],
           "sequentialminus": [
            [
             0,
             "#0d0887"
            ],
            [
             0.1111111111111111,
             "#46039f"
            ],
            [
             0.2222222222222222,
             "#7201a8"
            ],
            [
             0.3333333333333333,
             "#9c179e"
            ],
            [
             0.4444444444444444,
             "#bd3786"
            ],
            [
             0.5555555555555556,
             "#d8576b"
            ],
            [
             0.6666666666666666,
             "#ed7953"
            ],
            [
             0.7777777777777778,
             "#fb9f3a"
            ],
            [
             0.8888888888888888,
             "#fdca26"
            ],
            [
             1,
             "#f0f921"
            ]
           ]
          },
          "colorway": [
           "#636efa",
           "#EF553B",
           "#00cc96",
           "#ab63fa",
           "#FFA15A",
           "#19d3f3",
           "#FF6692",
           "#B6E880",
           "#FF97FF",
           "#FECB52"
          ],
          "font": {
           "color": "#2a3f5f"
          },
          "geo": {
           "bgcolor": "white",
           "lakecolor": "white",
           "landcolor": "#E5ECF6",
           "showlakes": true,
           "showland": true,
           "subunitcolor": "white"
          },
          "hoverlabel": {
           "align": "left"
          },
          "hovermode": "closest",
          "mapbox": {
           "style": "light"
          },
          "paper_bgcolor": "white",
          "plot_bgcolor": "#E5ECF6",
          "polar": {
           "angularaxis": {
            "gridcolor": "white",
            "linecolor": "white",
            "ticks": ""
           },
           "bgcolor": "#E5ECF6",
           "radialaxis": {
            "gridcolor": "white",
            "linecolor": "white",
            "ticks": ""
           }
          },
          "scene": {
           "xaxis": {
            "backgroundcolor": "#E5ECF6",
            "gridcolor": "white",
            "gridwidth": 2,
            "linecolor": "white",
            "showbackground": true,
            "ticks": "",
            "zerolinecolor": "white"
           },
           "yaxis": {
            "backgroundcolor": "#E5ECF6",
            "gridcolor": "white",
            "gridwidth": 2,
            "linecolor": "white",
            "showbackground": true,
            "ticks": "",
            "zerolinecolor": "white"
           },
           "zaxis": {
            "backgroundcolor": "#E5ECF6",
            "gridcolor": "white",
            "gridwidth": 2,
            "linecolor": "white",
            "showbackground": true,
            "ticks": "",
            "zerolinecolor": "white"
           }
          },
          "shapedefaults": {
           "line": {
            "color": "#2a3f5f"
           }
          },
          "ternary": {
           "aaxis": {
            "gridcolor": "white",
            "linecolor": "white",
            "ticks": ""
           },
           "baxis": {
            "gridcolor": "white",
            "linecolor": "white",
            "ticks": ""
           },
           "bgcolor": "#E5ECF6",
           "caxis": {
            "gridcolor": "white",
            "linecolor": "white",
            "ticks": ""
           }
          },
          "title": {
           "x": 0.05
          },
          "xaxis": {
           "automargin": true,
           "gridcolor": "white",
           "linecolor": "white",
           "ticks": "",
           "title": {
            "standoff": 15
           },
           "zerolinecolor": "white",
           "zerolinewidth": 2
          },
          "yaxis": {
           "automargin": true,
           "gridcolor": "white",
           "linecolor": "white",
           "ticks": "",
           "title": {
            "standoff": 15
           },
           "zerolinecolor": "white",
           "zerolinewidth": 2
          }
         }
        },
        "title": {
         "text": "Training History"
        },
        "xaxis": {
         "anchor": "y",
         "domain": [
          0,
          1
         ],
         "title": {
          "text": "epoch"
         }
        },
        "yaxis": {
         "anchor": "x",
         "domain": [
          0,
          1
         ],
         "title": {
          "text": "MCRMSE"
         }
        }
       }
      },
      "text/html": [
       "<div>                            <div id=\"2bd0917d-96e5-4272-9d2d-dd1eea8ac901\" class=\"plotly-graph-div\" style=\"height:525px; width:100%;\"></div>            <script type=\"text/javascript\">                require([\"plotly\"], function(Plotly) {                    window.PLOTLYENV=window.PLOTLYENV || {};                                    if (document.getElementById(\"2bd0917d-96e5-4272-9d2d-dd1eea8ac901\")) {                    Plotly.newPlot(                        \"2bd0917d-96e5-4272-9d2d-dd1eea8ac901\",                        [{\"hovertemplate\": \"variable=loss<br>epoch=%{x}<br>MCRMSE=%{y}<extra></extra>\", \"legendgroup\": \"loss\", \"line\": {\"color\": \"#636efa\", \"dash\": \"solid\"}, \"mode\": \"lines\", \"name\": \"loss\", \"orientation\": \"v\", \"showlegend\": true, \"type\": \"scatter\", \"x\": [0, 1, 2, 3, 4, 5, 6, 7, 8, 9, 10, 11, 12, 13, 14, 15, 16, 17, 18, 19, 20, 21, 22, 23, 24, 25, 26, 27, 28, 29, 30, 31, 32, 33, 34, 35, 36, 37, 38, 39, 40, 41, 42, 43, 44, 45, 46, 47, 48, 49, 50, 51, 52, 53, 54, 55, 56, 57, 58, 59, 60, 61, 62, 63, 64, 65, 66, 67, 68, 69, 70, 71, 72, 73, 74], \"xaxis\": \"x\", \"y\": [0.5617567896842957, 0.45122280716896057, 0.4205242395401001, 0.3982808291912079, 0.37911102175712585, 0.3712459206581116, 0.3633610010147095, 0.35670024156570435, 0.34994757175445557, 0.34244173765182495, 0.3404032289981842, 0.33331623673439026, 0.32908764481544495, 0.3243427872657776, 0.31994521617889404, 0.3161919116973877, 0.3107847273349762, 0.3067956864833832, 0.3029562830924988, 0.29953765869140625, 0.2978174388408661, 0.2935359477996826, 0.28986963629722595, 0.2868339419364929, 0.28450390696525574, 0.28266558051109314, 0.27989649772644043, 0.2767132520675659, 0.274968683719635, 0.27254822850227356, 0.27293720841407776, 0.2677270174026489, 0.2653863728046417, 0.2637542188167572, 0.26134610176086426, 0.26031216979026794, 0.24735301733016968, 0.24449749290943146, 0.24358563125133514, 0.2422260046005249, 0.24190670251846313, 0.2412080466747284, 0.24083493649959564, 0.24040937423706055, 0.23979972302913666, 0.23907552659511566, 0.2386562079191208, 0.23838116228580475, 0.23741433024406433, 0.2373514026403427, 0.23727042973041534, 0.23726150393486023, 0.2371140867471695, 0.23677518963813782, 0.23717182874679565, 0.2367725372314453, 0.2369289994239807, 0.23637793958187103, 0.23681004345417023, 0.23671573400497437, 0.2369910478591919, 0.23703667521476746, 0.23693007230758667, 0.2370838224887848, 0.23666617274284363, 0.2368406504392624, 0.23672910034656525, 0.23679119348526, 0.2367883175611496, 0.23700809478759766, 0.23687365651130676, 0.2368396669626236, 0.2368372678756714, 0.23692303895950317, 0.2368341088294983], \"yaxis\": \"y\"}, {\"hovertemplate\": \"variable=accuracy<br>epoch=%{x}<br>MCRMSE=%{y}<extra></extra>\", \"legendgroup\": \"accuracy\", \"line\": {\"color\": \"#EF553B\", \"dash\": \"solid\"}, \"mode\": \"lines\", \"name\": \"accuracy\", \"orientation\": \"v\", \"showlegend\": true, \"type\": \"scatter\", \"x\": [0, 1, 2, 3, 4, 5, 6, 7, 8, 9, 10, 11, 12, 13, 14, 15, 16, 17, 18, 19, 20, 21, 22, 23, 24, 25, 26, 27, 28, 29, 30, 31, 32, 33, 34, 35, 36, 37, 38, 39, 40, 41, 42, 43, 44, 45, 46, 47, 48, 49, 50, 51, 52, 53, 54, 55, 56, 57, 58, 59, 60, 61, 62, 63, 64, 65, 66, 67, 68, 69, 70, 71, 72, 73, 74], \"xaxis\": \"x\", \"y\": [0.24190279841423035, 0.27606067061424255, 0.31374886631965637, 0.3242074251174927, 0.3463402986526489, 0.35552075505256653, 0.35464009642601013, 0.3644829988479614, 0.3642258048057556, 0.37104493379592896, 0.38513514399528503, 0.3842233121395111, 0.3929206132888794, 0.39502477645874023, 0.4012126326560974, 0.401391863822937, 0.40909162163734436, 0.4111178517341614, 0.4094267189502716, 0.4175083339214325, 0.41761744022369385, 0.4192306399345398, 0.4223245680332184, 0.423189640045166, 0.4322921633720398, 0.4323311150074005, 0.4348561465740204, 0.43355464935302734, 0.4390489161014557, 0.44538483023643494, 0.4459848999977112, 0.44578227400779724, 0.4501153528690338, 0.4530767798423767, 0.4514557719230652, 0.45455750823020935, 0.47255992889404297, 0.47239628434181213, 0.47314441204071045, 0.4752252399921417, 0.4758175015449524, 0.47645655274391174, 0.4757317900657654, 0.4785061776638031, 0.4770878255367279, 0.47774243354797363, 0.4785451591014862, 0.4786932170391083, 0.48043110966682434, 0.48112472891807556, 0.4804155230522156, 0.48122602701187134, 0.47998690605163574, 0.4808753430843353, 0.4791296422481537, 0.4804155230522156, 0.4810623824596405, 0.48038434982299805, 0.4805324375629425, 0.4804389178752899, 0.4806727170944214, 0.4810545742511749, 0.47990119457244873, 0.47962063550949097, 0.4804077446460724, 0.479947954416275, 0.47998690605163574, 0.48042333126068115, 0.48001807928085327, 0.4817326068878174, 0.4799089729785919, 0.4796907603740692, 0.479682981967926, 0.47900494933128357, 0.47998690605163574], \"yaxis\": \"y\"}, {\"hovertemplate\": \"variable=val_loss<br>epoch=%{x}<br>MCRMSE=%{y}<extra></extra>\", \"legendgroup\": \"val_loss\", \"line\": {\"color\": \"#00cc96\", \"dash\": \"solid\"}, \"mode\": \"lines\", \"name\": \"val_loss\", \"orientation\": \"v\", \"showlegend\": true, \"type\": \"scatter\", \"x\": [0, 1, 2, 3, 4, 5, 6, 7, 8, 9, 10, 11, 12, 13, 14, 15, 16, 17, 18, 19, 20, 21, 22, 23, 24, 25, 26, 27, 28, 29, 30, 31, 32, 33, 34, 35, 36, 37, 38, 39, 40, 41, 42, 43, 44, 45, 46, 47, 48, 49, 50, 51, 52, 53, 54, 55, 56, 57, 58, 59, 60, 61, 62, 63, 64, 65, 66, 67, 68, 69, 70, 71, 72, 73, 74], \"xaxis\": \"x\", \"y\": [0.43893980979919434, 0.39614641666412354, 0.38833844661712646, 0.37767231464385986, 0.35556212067604065, 0.36368855834007263, 0.3558785915374756, 0.34204816818237305, 0.33381304144859314, 0.32932931184768677, 0.3135705888271332, 0.3224393427371979, 0.309632807970047, 0.312583863735199, 0.3003823459148407, 0.3246169686317444, 0.30942440032958984, 0.3015744090080261, 0.29816749691963196, 0.2938355505466461, 0.29496508836746216, 0.28402620553970337, 0.2977868616580963, 0.3074739873409271, 0.2811974883079529, 0.2874493896961212, 0.27968984842300415, 0.28845271468162537, 0.2780320346355438, 0.2825007140636444, 0.27349144220352173, 0.2771715223789215, 0.2756265103816986, 0.27937939763069153, 0.2786773443222046, 0.27511152625083923, 0.2627968490123749, 0.2625167965888977, 0.2628624439239502, 0.262917697429657, 0.2626221477985382, 0.2634044885635376, 0.2619372010231018, 0.2626958191394806, 0.26233893632888794, 0.2627389132976532, 0.26325052976608276, 0.26292482018470764, 0.26271334290504456, 0.2625828683376312, 0.2626827657222748, 0.26264122128486633, 0.2626047134399414, 0.26259732246398926, 0.26258429884910583, 0.26258426904678345, 0.26257628202438354, 0.2625693678855896, 0.2625701427459717, 0.2625701129436493, 0.26256856322288513, 0.262567937374115, 0.2625676691532135, 0.2625676393508911, 0.2625677287578583, 0.2625674903392792, 0.2625674605369568, 0.262567400932312, 0.262567400932312, 0.262567400932312, 0.262567400932312, 0.262567400932312, 0.262567400932312, 0.262567400932312, 0.262567400932312], \"yaxis\": \"y\"}, {\"hovertemplate\": \"variable=val_accuracy<br>epoch=%{x}<br>MCRMSE=%{y}<extra></extra>\", \"legendgroup\": \"val_accuracy\", \"line\": {\"color\": \"#ab63fa\", \"dash\": \"solid\"}, \"mode\": \"lines\", \"name\": \"val_accuracy\", \"orientation\": \"v\", \"showlegend\": true, \"type\": \"scatter\", \"x\": [0, 1, 2, 3, 4, 5, 6, 7, 8, 9, 10, 11, 12, 13, 14, 15, 16, 17, 18, 19, 20, 21, 22, 23, 24, 25, 26, 27, 28, 29, 30, 31, 32, 33, 34, 35, 36, 37, 38, 39, 40, 41, 42, 43, 44, 45, 46, 47, 48, 49, 50, 51, 52, 53, 54, 55, 56, 57, 58, 59, 60, 61, 62, 63, 64, 65, 66, 67, 68, 69, 70, 71, 72, 73, 74], \"xaxis\": \"x\", \"y\": [0.18200279772281647, 0.31456583738327026, 0.36393555998802185, 0.35700279474258423, 0.31582632660865784, 0.3181372582912445, 0.3867647051811218, 0.3343137204647064, 0.37626051902770996, 0.40980392694473267, 0.3794117569923401, 0.408123254776001, 0.42226889729499817, 0.37906163930892944, 0.41267508268356323, 0.35847339034080505, 0.4003501534461975, 0.3789215683937073, 0.42885154485702515, 0.40833333134651184, 0.39635854959487915, 0.41036415100097656, 0.3880952298641205, 0.4307422935962677, 0.424089640378952, 0.4252100884914398, 0.44411763548851013, 0.4236694574356079, 0.43403360247612, 0.4172969162464142, 0.44068628549575806, 0.44719886779785156, 0.4399159550666809, 0.4464285671710968, 0.4308123290538788, 0.44992998242378235, 0.46792715787887573, 0.4717086851596832, 0.46722689270973206, 0.4701680541038513, 0.4693277180194855, 0.47037816047668457, 0.4724089503288269, 0.4733893573284149, 0.47373950481414795, 0.4735293984413147, 0.47212883830070496, 0.4698179364204407, 0.471848726272583, 0.47275909781455994, 0.4717086851596832, 0.4719887971878052, 0.4733893573284149, 0.4733893573284149, 0.47331932187080383, 0.473459392786026, 0.4733893573284149, 0.47317928075790405, 0.47317928075790405, 0.47317928075790405, 0.47317928075790405, 0.47317928075790405, 0.47324928641319275, 0.47317928075790405, 0.47324928641319275, 0.47317928075790405, 0.47324928641319275, 0.47324928641319275, 0.47324928641319275, 0.47324928641319275, 0.47324928641319275, 0.47324928641319275, 0.47324928641319275, 0.47324928641319275, 0.47324928641319275], \"yaxis\": \"y\"}],                        {\"legend\": {\"title\": {\"text\": \"variable\"}, \"tracegroupgap\": 0}, \"template\": {\"data\": {\"bar\": [{\"error_x\": {\"color\": \"#2a3f5f\"}, \"error_y\": {\"color\": \"#2a3f5f\"}, \"marker\": {\"line\": {\"color\": \"#E5ECF6\", \"width\": 0.5}}, \"type\": \"bar\"}], \"barpolar\": [{\"marker\": {\"line\": {\"color\": \"#E5ECF6\", \"width\": 0.5}}, \"type\": \"barpolar\"}], \"carpet\": [{\"aaxis\": {\"endlinecolor\": \"#2a3f5f\", \"gridcolor\": \"white\", \"linecolor\": \"white\", \"minorgridcolor\": \"white\", \"startlinecolor\": \"#2a3f5f\"}, \"baxis\": {\"endlinecolor\": \"#2a3f5f\", \"gridcolor\": \"white\", \"linecolor\": \"white\", \"minorgridcolor\": \"white\", \"startlinecolor\": \"#2a3f5f\"}, \"type\": \"carpet\"}], \"choropleth\": [{\"colorbar\": {\"outlinewidth\": 0, \"ticks\": \"\"}, \"type\": \"choropleth\"}], \"contour\": [{\"colorbar\": {\"outlinewidth\": 0, \"ticks\": \"\"}, \"colorscale\": [[0.0, \"#0d0887\"], [0.1111111111111111, \"#46039f\"], [0.2222222222222222, \"#7201a8\"], [0.3333333333333333, \"#9c179e\"], [0.4444444444444444, \"#bd3786\"], [0.5555555555555556, \"#d8576b\"], [0.6666666666666666, \"#ed7953\"], [0.7777777777777778, \"#fb9f3a\"], [0.8888888888888888, \"#fdca26\"], [1.0, \"#f0f921\"]], \"type\": \"contour\"}], \"contourcarpet\": [{\"colorbar\": {\"outlinewidth\": 0, \"ticks\": \"\"}, \"type\": \"contourcarpet\"}], \"heatmap\": [{\"colorbar\": {\"outlinewidth\": 0, \"ticks\": \"\"}, \"colorscale\": [[0.0, \"#0d0887\"], [0.1111111111111111, \"#46039f\"], [0.2222222222222222, \"#7201a8\"], [0.3333333333333333, \"#9c179e\"], [0.4444444444444444, \"#bd3786\"], [0.5555555555555556, \"#d8576b\"], [0.6666666666666666, \"#ed7953\"], [0.7777777777777778, \"#fb9f3a\"], [0.8888888888888888, \"#fdca26\"], [1.0, \"#f0f921\"]], \"type\": \"heatmap\"}], \"heatmapgl\": [{\"colorbar\": {\"outlinewidth\": 0, \"ticks\": \"\"}, \"colorscale\": [[0.0, \"#0d0887\"], [0.1111111111111111, \"#46039f\"], [0.2222222222222222, \"#7201a8\"], [0.3333333333333333, \"#9c179e\"], [0.4444444444444444, \"#bd3786\"], [0.5555555555555556, \"#d8576b\"], [0.6666666666666666, \"#ed7953\"], [0.7777777777777778, \"#fb9f3a\"], [0.8888888888888888, \"#fdca26\"], [1.0, \"#f0f921\"]], \"type\": \"heatmapgl\"}], \"histogram\": [{\"marker\": {\"colorbar\": {\"outlinewidth\": 0, \"ticks\": \"\"}}, \"type\": \"histogram\"}], \"histogram2d\": [{\"colorbar\": {\"outlinewidth\": 0, \"ticks\": \"\"}, \"colorscale\": [[0.0, \"#0d0887\"], [0.1111111111111111, \"#46039f\"], [0.2222222222222222, \"#7201a8\"], [0.3333333333333333, \"#9c179e\"], [0.4444444444444444, \"#bd3786\"], [0.5555555555555556, \"#d8576b\"], [0.6666666666666666, \"#ed7953\"], [0.7777777777777778, \"#fb9f3a\"], [0.8888888888888888, \"#fdca26\"], [1.0, \"#f0f921\"]], \"type\": \"histogram2d\"}], \"histogram2dcontour\": [{\"colorbar\": {\"outlinewidth\": 0, \"ticks\": \"\"}, \"colorscale\": [[0.0, \"#0d0887\"], [0.1111111111111111, \"#46039f\"], [0.2222222222222222, \"#7201a8\"], [0.3333333333333333, \"#9c179e\"], [0.4444444444444444, \"#bd3786\"], [0.5555555555555556, \"#d8576b\"], [0.6666666666666666, \"#ed7953\"], [0.7777777777777778, \"#fb9f3a\"], [0.8888888888888888, \"#fdca26\"], [1.0, \"#f0f921\"]], \"type\": \"histogram2dcontour\"}], \"mesh3d\": [{\"colorbar\": {\"outlinewidth\": 0, \"ticks\": \"\"}, \"type\": \"mesh3d\"}], \"parcoords\": [{\"line\": {\"colorbar\": {\"outlinewidth\": 0, \"ticks\": \"\"}}, \"type\": \"parcoords\"}], \"pie\": [{\"automargin\": true, \"type\": \"pie\"}], \"scatter\": [{\"marker\": {\"colorbar\": {\"outlinewidth\": 0, \"ticks\": \"\"}}, \"type\": \"scatter\"}], \"scatter3d\": [{\"line\": {\"colorbar\": {\"outlinewidth\": 0, \"ticks\": \"\"}}, \"marker\": {\"colorbar\": {\"outlinewidth\": 0, \"ticks\": \"\"}}, \"type\": \"scatter3d\"}], \"scattercarpet\": [{\"marker\": {\"colorbar\": {\"outlinewidth\": 0, \"ticks\": \"\"}}, \"type\": \"scattercarpet\"}], \"scattergeo\": [{\"marker\": {\"colorbar\": {\"outlinewidth\": 0, \"ticks\": \"\"}}, \"type\": \"scattergeo\"}], \"scattergl\": [{\"marker\": {\"colorbar\": {\"outlinewidth\": 0, \"ticks\": \"\"}}, \"type\": \"scattergl\"}], \"scattermapbox\": [{\"marker\": {\"colorbar\": {\"outlinewidth\": 0, \"ticks\": \"\"}}, \"type\": \"scattermapbox\"}], \"scatterpolar\": [{\"marker\": {\"colorbar\": {\"outlinewidth\": 0, \"ticks\": \"\"}}, \"type\": \"scatterpolar\"}], \"scatterpolargl\": [{\"marker\": {\"colorbar\": {\"outlinewidth\": 0, \"ticks\": \"\"}}, \"type\": \"scatterpolargl\"}], \"scatterternary\": [{\"marker\": {\"colorbar\": {\"outlinewidth\": 0, \"ticks\": \"\"}}, \"type\": \"scatterternary\"}], \"surface\": [{\"colorbar\": {\"outlinewidth\": 0, \"ticks\": \"\"}, \"colorscale\": [[0.0, \"#0d0887\"], [0.1111111111111111, \"#46039f\"], [0.2222222222222222, \"#7201a8\"], [0.3333333333333333, \"#9c179e\"], [0.4444444444444444, \"#bd3786\"], [0.5555555555555556, \"#d8576b\"], [0.6666666666666666, \"#ed7953\"], [0.7777777777777778, \"#fb9f3a\"], [0.8888888888888888, \"#fdca26\"], [1.0, \"#f0f921\"]], \"type\": \"surface\"}], \"table\": [{\"cells\": {\"fill\": {\"color\": \"#EBF0F8\"}, \"line\": {\"color\": \"white\"}}, \"header\": {\"fill\": {\"color\": \"#C8D4E3\"}, \"line\": {\"color\": \"white\"}}, \"type\": \"table\"}]}, \"layout\": {\"annotationdefaults\": {\"arrowcolor\": \"#2a3f5f\", \"arrowhead\": 0, \"arrowwidth\": 1}, \"coloraxis\": {\"colorbar\": {\"outlinewidth\": 0, \"ticks\": \"\"}}, \"colorscale\": {\"diverging\": [[0, \"#8e0152\"], [0.1, \"#c51b7d\"], [0.2, \"#de77ae\"], [0.3, \"#f1b6da\"], [0.4, \"#fde0ef\"], [0.5, \"#f7f7f7\"], [0.6, \"#e6f5d0\"], [0.7, \"#b8e186\"], [0.8, \"#7fbc41\"], [0.9, \"#4d9221\"], [1, \"#276419\"]], \"sequential\": [[0.0, \"#0d0887\"], [0.1111111111111111, \"#46039f\"], [0.2222222222222222, \"#7201a8\"], [0.3333333333333333, \"#9c179e\"], [0.4444444444444444, \"#bd3786\"], [0.5555555555555556, \"#d8576b\"], [0.6666666666666666, \"#ed7953\"], [0.7777777777777778, \"#fb9f3a\"], [0.8888888888888888, \"#fdca26\"], [1.0, \"#f0f921\"]], \"sequentialminus\": [[0.0, \"#0d0887\"], [0.1111111111111111, \"#46039f\"], [0.2222222222222222, \"#7201a8\"], [0.3333333333333333, \"#9c179e\"], [0.4444444444444444, \"#bd3786\"], [0.5555555555555556, \"#d8576b\"], [0.6666666666666666, \"#ed7953\"], [0.7777777777777778, \"#fb9f3a\"], [0.8888888888888888, \"#fdca26\"], [1.0, \"#f0f921\"]]}, \"colorway\": [\"#636efa\", \"#EF553B\", \"#00cc96\", \"#ab63fa\", \"#FFA15A\", \"#19d3f3\", \"#FF6692\", \"#B6E880\", \"#FF97FF\", \"#FECB52\"], \"font\": {\"color\": \"#2a3f5f\"}, \"geo\": {\"bgcolor\": \"white\", \"lakecolor\": \"white\", \"landcolor\": \"#E5ECF6\", \"showlakes\": true, \"showland\": true, \"subunitcolor\": \"white\"}, \"hoverlabel\": {\"align\": \"left\"}, \"hovermode\": \"closest\", \"mapbox\": {\"style\": \"light\"}, \"paper_bgcolor\": \"white\", \"plot_bgcolor\": \"#E5ECF6\", \"polar\": {\"angularaxis\": {\"gridcolor\": \"white\", \"linecolor\": \"white\", \"ticks\": \"\"}, \"bgcolor\": \"#E5ECF6\", \"radialaxis\": {\"gridcolor\": \"white\", \"linecolor\": \"white\", \"ticks\": \"\"}}, \"scene\": {\"xaxis\": {\"backgroundcolor\": \"#E5ECF6\", \"gridcolor\": \"white\", \"gridwidth\": 2, \"linecolor\": \"white\", \"showbackground\": true, \"ticks\": \"\", \"zerolinecolor\": \"white\"}, \"yaxis\": {\"backgroundcolor\": \"#E5ECF6\", \"gridcolor\": \"white\", \"gridwidth\": 2, \"linecolor\": \"white\", \"showbackground\": true, \"ticks\": \"\", \"zerolinecolor\": \"white\"}, \"zaxis\": {\"backgroundcolor\": \"#E5ECF6\", \"gridcolor\": \"white\", \"gridwidth\": 2, \"linecolor\": \"white\", \"showbackground\": true, \"ticks\": \"\", \"zerolinecolor\": \"white\"}}, \"shapedefaults\": {\"line\": {\"color\": \"#2a3f5f\"}}, \"ternary\": {\"aaxis\": {\"gridcolor\": \"white\", \"linecolor\": \"white\", \"ticks\": \"\"}, \"baxis\": {\"gridcolor\": \"white\", \"linecolor\": \"white\", \"ticks\": \"\"}, \"bgcolor\": \"#E5ECF6\", \"caxis\": {\"gridcolor\": \"white\", \"linecolor\": \"white\", \"ticks\": \"\"}}, \"title\": {\"x\": 0.05}, \"xaxis\": {\"automargin\": true, \"gridcolor\": \"white\", \"linecolor\": \"white\", \"ticks\": \"\", \"title\": {\"standoff\": 15}, \"zerolinecolor\": \"white\", \"zerolinewidth\": 2}, \"yaxis\": {\"automargin\": true, \"gridcolor\": \"white\", \"linecolor\": \"white\", \"ticks\": \"\", \"title\": {\"standoff\": 15}, \"zerolinecolor\": \"white\", \"zerolinewidth\": 2}}}, \"title\": {\"text\": \"Training History\"}, \"xaxis\": {\"anchor\": \"y\", \"domain\": [0.0, 1.0], \"title\": {\"text\": \"epoch\"}}, \"yaxis\": {\"anchor\": \"x\", \"domain\": [0.0, 1.0], \"title\": {\"text\": \"MCRMSE\"}}},                        {\"responsive\": true}                    ).then(function(){\n",
       "                            \n",
       "var gd = document.getElementById('2bd0917d-96e5-4272-9d2d-dd1eea8ac901');\n",
       "var x = new MutationObserver(function (mutations, observer) {{\n",
       "        var display = window.getComputedStyle(gd).display;\n",
       "        if (!display || display === 'none') {{\n",
       "            console.log([gd, 'removed!']);\n",
       "            Plotly.purge(gd);\n",
       "            observer.disconnect();\n",
       "        }}\n",
       "}});\n",
       "\n",
       "// Listen for the removal of the full notebook cells\n",
       "var notebookContainer = gd.closest('#notebook-container');\n",
       "if (notebookContainer) {{\n",
       "    x.observe(notebookContainer, {childList: true});\n",
       "}}\n",
       "\n",
       "// Listen for the clearing of the current output cell\n",
       "var outputEl = gd.closest('.output');\n",
       "if (outputEl) {{\n",
       "    x.observe(outputEl, {childList: true});\n",
       "}}\n",
       "\n",
       "                        })                };                });            </script>        </div>"
      ]
     },
     "metadata": {},
     "output_type": "display_data"
    }
   ],
   "source": [
    "import plotly.express as px\n",
    "fig = px.line(\n",
    "    history.history, y=['loss', 'accuracy', 'val_loss', 'val_accuracy'],\n",
    "    labels={'index': 'epoch', 'value': 'MCRMSE'}, \n",
    "    title='Training History')\n",
    "fig.show()"
   ]
  },
  {
   "cell_type": "code",
   "execution_count": 34,
   "metadata": {},
   "outputs": [
    {
     "data": {
      "text/plain": [
       "{'loss': [0.5811967253684998,\n",
       "  0.45659327507019043,\n",
       "  0.4234050214290619,\n",
       "  0.40253010392189026,\n",
       "  0.3813134729862213,\n",
       "  0.3703606128692627,\n",
       "  0.3631477952003479,\n",
       "  0.35643303394317627,\n",
       "  0.35147225856781006,\n",
       "  0.3453005850315094,\n",
       "  0.3403914272785187,\n",
       "  0.33420664072036743,\n",
       "  0.32982534170150757,\n",
       "  0.32509031891822815,\n",
       "  0.3222046196460724,\n",
       "  0.3180749714374542,\n",
       "  0.3100661337375641,\n",
       "  0.3081080913543701,\n",
       "  0.305099755525589,\n",
       "  0.2993493974208832,\n",
       "  0.2997782230377197,\n",
       "  0.2947523295879364,\n",
       "  0.29163646697998047,\n",
       "  0.28758668899536133,\n",
       "  0.2870587408542633,\n",
       "  0.2830219864845276,\n",
       "  0.2813083529472351,\n",
       "  0.2795730233192444,\n",
       "  0.2754025161266327,\n",
       "  0.27326300740242004,\n",
       "  0.27363577485084534,\n",
       "  0.26893919706344604,\n",
       "  0.2674010396003723,\n",
       "  0.2656969428062439,\n",
       "  0.26308438181877136,\n",
       "  0.26385998725891113,\n",
       "  0.2586568593978882,\n",
       "  0.2574784457683563,\n",
       "  0.2546256482601166,\n",
       "  0.25375163555145264,\n",
       "  0.25176623463630676,\n",
       "  0.2497900277376175,\n",
       "  0.24584801495075226,\n",
       "  0.24561317265033722,\n",
       "  0.2428211271762848],\n",
       " 'accuracy': [0.23089872300624847,\n",
       "  0.2831915020942688,\n",
       "  0.30092117190361023,\n",
       "  0.33207860589027405,\n",
       "  0.33696499466896057,\n",
       "  0.35117989778518677,\n",
       "  0.35485053062438965,\n",
       "  0.36040711402893066,\n",
       "  0.36972007155418396,\n",
       "  0.37625861167907715,\n",
       "  0.37984350323677063,\n",
       "  0.3807865083217621,\n",
       "  0.3929595649242401,\n",
       "  0.39598336815834045,\n",
       "  0.39836031198501587,\n",
       "  0.4028414189815521,\n",
       "  0.4067458510398865,\n",
       "  0.40742385387420654,\n",
       "  0.41757068037986755,\n",
       "  0.4166354835033417,\n",
       "  0.4146871864795685,\n",
       "  0.4187396764755249,\n",
       "  0.42097634077072144,\n",
       "  0.4253249764442444,\n",
       "  0.4319882094860077,\n",
       "  0.4307802617549896,\n",
       "  0.4331338405609131,\n",
       "  0.4368044435977936,\n",
       "  0.4343106150627136,\n",
       "  0.44298452138900757,\n",
       "  0.44388851523399353,\n",
       "  0.4429377615451813,\n",
       "  0.44688114523887634,\n",
       "  0.44971010088920593,\n",
       "  0.4512765407562256,\n",
       "  0.4526325762271881,\n",
       "  0.45672401785850525,\n",
       "  0.457534521818161,\n",
       "  0.45711368322372437,\n",
       "  0.4623039960861206,\n",
       "  0.46127527952194214,\n",
       "  0.46382367610931396,\n",
       "  0.4642445147037506,\n",
       "  0.4696764349937439,\n",
       "  0.4665513336658478],\n",
       " 'val_loss': [0.5349646210670471,\n",
       "  0.4043329060077667,\n",
       "  0.42402681708335876,\n",
       "  0.36265048384666443,\n",
       "  0.3530366122722626,\n",
       "  0.37926185131073,\n",
       "  0.35187166929244995,\n",
       "  0.34118935465812683,\n",
       "  0.35672029852867126,\n",
       "  0.3269878923892975,\n",
       "  0.3139345347881317,\n",
       "  0.3273887038230896,\n",
       "  0.30490463972091675,\n",
       "  0.32113146781921387,\n",
       "  0.3044898509979248,\n",
       "  0.30778250098228455,\n",
       "  0.3291330337524414,\n",
       "  0.3033601939678192,\n",
       "  0.2983836829662323,\n",
       "  0.3060060739517212,\n",
       "  0.29501739144325256,\n",
       "  0.2840018570423126,\n",
       "  0.2981720566749573,\n",
       "  0.3001422584056854,\n",
       "  0.2963330149650574,\n",
       "  0.2820633053779602,\n",
       "  0.28152450919151306,\n",
       "  0.28045523166656494,\n",
       "  0.28517696261405945,\n",
       "  0.28045913577079773,\n",
       "  0.276157021522522,\n",
       "  0.2762239873409271,\n",
       "  0.27428311109542847,\n",
       "  0.27717071771621704,\n",
       "  0.28083428740501404,\n",
       "  0.27277806401252747,\n",
       "  0.2754054367542267,\n",
       "  0.2705672085285187,\n",
       "  0.28195324540138245,\n",
       "  0.2690074145793915,\n",
       "  0.2703915238380432,\n",
       "  0.27572786808013916,\n",
       "  0.2701602578163147,\n",
       "  0.26924455165863037,\n",
       "  0.2824198305606842],\n",
       " 'val_accuracy': [0.2698879539966583,\n",
       "  0.2738095223903656,\n",
       "  0.30490195751190186,\n",
       "  0.2991596758365631,\n",
       "  0.3495098054409027,\n",
       "  0.3294117748737335,\n",
       "  0.3868347406387329,\n",
       "  0.3360644280910492,\n",
       "  0.3707282841205597,\n",
       "  0.4138655364513397,\n",
       "  0.38004201650619507,\n",
       "  0.41253501176834106,\n",
       "  0.40875351428985596,\n",
       "  0.3924369812011719,\n",
       "  0.3846638798713684,\n",
       "  0.4051820635795593,\n",
       "  0.41421568393707275,\n",
       "  0.4160364270210266,\n",
       "  0.42780113220214844,\n",
       "  0.39859944581985474,\n",
       "  0.3836134374141693,\n",
       "  0.42030811309814453,\n",
       "  0.3895658254623413,\n",
       "  0.4318627417087555,\n",
       "  0.42941176891326904,\n",
       "  0.4376050531864166,\n",
       "  0.4231792688369751,\n",
       "  0.4172969162464142,\n",
       "  0.4220588207244873,\n",
       "  0.407492995262146,\n",
       "  0.44355741143226624,\n",
       "  0.4292016923427582,\n",
       "  0.45056021213531494,\n",
       "  0.4350840449333191,\n",
       "  0.4286414682865143,\n",
       "  0.44397759437561035,\n",
       "  0.44173669815063477,\n",
       "  0.44873949885368347,\n",
       "  0.4345938265323639,\n",
       "  0.41743698716163635,\n",
       "  0.451260507106781,\n",
       "  0.44782912731170654,\n",
       "  0.44075629115104675,\n",
       "  0.44180673360824585,\n",
       "  0.46302521228790283],\n",
       " 'lr': [0.001,\n",
       "  0.001,\n",
       "  0.001,\n",
       "  0.001,\n",
       "  0.001,\n",
       "  0.001,\n",
       "  0.001,\n",
       "  0.001,\n",
       "  0.001,\n",
       "  0.001,\n",
       "  0.001,\n",
       "  0.001,\n",
       "  0.001,\n",
       "  0.001,\n",
       "  0.001,\n",
       "  0.001,\n",
       "  0.001,\n",
       "  0.001,\n",
       "  0.001,\n",
       "  0.001,\n",
       "  0.001,\n",
       "  0.001,\n",
       "  0.001,\n",
       "  0.001,\n",
       "  0.001,\n",
       "  0.001,\n",
       "  0.001,\n",
       "  0.001,\n",
       "  0.001,\n",
       "  0.001,\n",
       "  0.001,\n",
       "  0.001,\n",
       "  0.001,\n",
       "  0.001,\n",
       "  0.001,\n",
       "  0.001,\n",
       "  0.001,\n",
       "  0.001,\n",
       "  0.001,\n",
       "  0.001,\n",
       "  0.001,\n",
       "  0.001,\n",
       "  0.001,\n",
       "  0.001,\n",
       "  0.001]}"
      ]
     },
     "execution_count": 34,
     "metadata": {},
     "output_type": "execute_result"
    }
   ],
   "source": [
    "history.history"
   ]
  },
  {
   "cell_type": "code",
   "execution_count": 20,
   "metadata": {},
   "outputs": [],
   "source": [
    "def divide_set(df, list_column):\n",
    "    \"\"\"\n",
    "    Fonction qui crée d'une fenetre de lecture de 68 bases. \n",
    "        :Parameters:\n",
    "            df = un data frame train\n",
    "            list_column = numero de la colonne du data frame \n",
    "        :Return:\n",
    "            deux data frame :\n",
    "                first68_train = data frame contenant les 68 premieres bases et annotations de structure\n",
    "                last68_train = data frame contenant les 68 dernieres bases et annotations de structure\n",
    "    \"\"\"\n",
    "    first68 = df.copy()\n",
    "    last68 = df.copy()\n",
    "    for a in list_column :\n",
    "        for i, r in enumerate(df.iloc[:,a]):\n",
    "            first68.iloc[i,a] = r[0:68]\n",
    "            last68.iloc[i,a] = r[len(r)-68:]\n",
    "    return first68, last68"
   ]
  },
  {
   "cell_type": "code",
   "execution_count": 21,
   "metadata": {},
   "outputs": [],
   "source": [
    "first68_train, last68_train = divide_set(train, [2,3,4])"
   ]
  },
  {
   "cell_type": "code",
   "execution_count": 22,
   "metadata": {},
   "outputs": [
    {
     "data": {
      "text/html": [
       "<div>\n",
       "<style scoped>\n",
       "    .dataframe tbody tr th:only-of-type {\n",
       "        vertical-align: middle;\n",
       "    }\n",
       "\n",
       "    .dataframe tbody tr th {\n",
       "        vertical-align: top;\n",
       "    }\n",
       "\n",
       "    .dataframe thead th {\n",
       "        text-align: right;\n",
       "    }\n",
       "</style>\n",
       "<table border=\"1\" class=\"dataframe\">\n",
       "  <thead>\n",
       "    <tr style=\"text-align: right;\">\n",
       "      <th></th>\n",
       "      <th>index</th>\n",
       "      <th>id</th>\n",
       "      <th>sequence</th>\n",
       "      <th>structure</th>\n",
       "      <th>predicted_loop_type</th>\n",
       "      <th>signal_to_noise</th>\n",
       "      <th>SN_filter</th>\n",
       "      <th>seq_length</th>\n",
       "      <th>seq_scored</th>\n",
       "      <th>reactivity_error</th>\n",
       "      <th>...</th>\n",
       "      <th>deg_error_Mg_50C</th>\n",
       "      <th>deg_error_50C</th>\n",
       "      <th>reactivity</th>\n",
       "      <th>deg_Mg_pH10</th>\n",
       "      <th>deg_pH10</th>\n",
       "      <th>deg_Mg_50C</th>\n",
       "      <th>deg_50C</th>\n",
       "      <th>One_hot seq</th>\n",
       "      <th>One hot strucure</th>\n",
       "      <th>encoding predicted loop</th>\n",
       "    </tr>\n",
       "  </thead>\n",
       "  <tbody>\n",
       "    <tr>\n",
       "      <th>0</th>\n",
       "      <td>0</td>\n",
       "      <td>id_001f94081</td>\n",
       "      <td>GGAAAAGCUCUAAUAACAGGAGACUAGGACUACGUAUUUCUAGGUA...</td>\n",
       "      <td>.....((((((.......)))).)).((.....((..((((((......</td>\n",
       "      <td>EEEEESSSSSSHHHHHHHSSSSBSSXSSIIIIISSIISSSSSSHHH...</td>\n",
       "      <td>6.894</td>\n",
       "      <td>1</td>\n",
       "      <td>107</td>\n",
       "      <td>68</td>\n",
       "      <td>[0.1359, 0.20700000000000002, 0.1633, 0.1452, ...</td>\n",
       "      <td>...</td>\n",
       "      <td>[0.1501, 0.275, 0.0947, 0.18660000000000002, 0...</td>\n",
       "      <td>[0.2167, 0.34750000000000003, 0.188, 0.2124, 0...</td>\n",
       "      <td>[0.3297, 1.5693000000000001, 1.1227, 0.8686, 0...</td>\n",
       "      <td>[0.7556, 2.983, 0.2526, 1.3789, 0.637600000000...</td>\n",
       "      <td>[2.3375, 3.5060000000000002, 0.3008, 1.0108, 0...</td>\n",
       "      <td>[0.35810000000000003, 2.9683, 0.2589, 1.4552, ...</td>\n",
       "      <td>[0.6382, 3.4773, 0.9988, 1.3228, 0.78770000000...</td>\n",
       "      <td>[[[1, 0, 0, 0]], [[1, 0, 0, 0]], [[0, 1, 0, 0]...</td>\n",
       "      <td>[[[1, 0, 0]], [[1, 0, 0]], [[1, 0, 0]], [[1, 0...</td>\n",
       "      <td>[[[1, 0, 0, 0, 0, 0, 0]], [[1, 0, 0, 0, 0, 0, ...</td>\n",
       "    </tr>\n",
       "    <tr>\n",
       "      <th>2</th>\n",
       "      <td>2</td>\n",
       "      <td>id_006f36f57</td>\n",
       "      <td>GGAAAGUGCUCAGAUAAGCUAAGCUCGAAUAGCAAUCGAAUAGAAU...</td>\n",
       "      <td>.....((((.((.....((((.(((.....)))..((((......)...</td>\n",
       "      <td>EEEEESSSSISSIIIIISSSSMSSSHHHHHSSSMMSSSSHHHHHHS...</td>\n",
       "      <td>8.800</td>\n",
       "      <td>1</td>\n",
       "      <td>107</td>\n",
       "      <td>68</td>\n",
       "      <td>[0.0931, 0.13290000000000002, 0.11280000000000...</td>\n",
       "      <td>...</td>\n",
       "      <td>[0.1033, 0.1464, 0.1126, 0.09620000000000001, ...</td>\n",
       "      <td>[0.14980000000000002, 0.1761, 0.1517, 0.116700...</td>\n",
       "      <td>[0.44820000000000004, 1.4822, 1.1819, 0.743400...</td>\n",
       "      <td>[0.2504, 1.4021, 0.9804, 0.49670000000000003, ...</td>\n",
       "      <td>[2.243, 2.9361, 1.0553, 0.721, 0.6396000000000...</td>\n",
       "      <td>[0.5163, 1.6823000000000001, 1.0426, 0.7902, 0...</td>\n",
       "      <td>[0.9501000000000001, 1.7974999999999999, 1.499...</td>\n",
       "      <td>[[[1, 0, 0, 0]], [[1, 0, 0, 0]], [[0, 1, 0, 0]...</td>\n",
       "      <td>[[[1, 0, 0]], [[1, 0, 0]], [[1, 0, 0]], [[1, 0...</td>\n",
       "      <td>[[[1, 0, 0, 0, 0, 0, 0]], [[1, 0, 0, 0, 0, 0, ...</td>\n",
       "    </tr>\n",
       "    <tr>\n",
       "      <th>5</th>\n",
       "      <td>5</td>\n",
       "      <td>id_00ab2d761</td>\n",
       "      <td>GGAAAGCGCCGCGGCGGUAGCGGCAGCGAGGAGCGCUACCAAGGCA...</td>\n",
       "      <td>.....(.(((((.(((((((((...........)))))))..(((....</td>\n",
       "      <td>EEEEESISSSSSISSSSSSSSSHHHHHHHHHHHSSSSSSSMMSSSH...</td>\n",
       "      <td>4.136</td>\n",
       "      <td>1</td>\n",
       "      <td>107</td>\n",
       "      <td>68</td>\n",
       "      <td>[0.1942, 0.2041, 0.1626, 0.1213, 0.10590000000...</td>\n",
       "      <td>...</td>\n",
       "      <td>[0.165, 0.20520000000000002, 0.179, 0.1333, 0....</td>\n",
       "      <td>[0.2864, 0.24710000000000001, 0.2222, 0.1903, ...</td>\n",
       "      <td>[0.7642, 1.6641, 1.0622, 0.5008, 0.4107, 0.133...</td>\n",
       "      <td>[0.9559000000000001, 1.9442, 1.0114, 0.5105000...</td>\n",
       "      <td>[1.9554, 2.1298, 1.0403, 0.609, 0.5486, 0.386,...</td>\n",
       "      <td>[0.22460000000000002, 1.7281, 1.381, 0.6623, 0...</td>\n",
       "      <td>[0.5882000000000001, 1.1786, 0.9704, 0.6035, 0...</td>\n",
       "      <td>[[[1, 0, 0, 0]], [[1, 0, 0, 0]], [[0, 1, 0, 0]...</td>\n",
       "      <td>[[[1, 0, 0]], [[1, 0, 0]], [[1, 0, 0]], [[1, 0...</td>\n",
       "      <td>[[[1, 0, 0, 0, 0, 0, 0]], [[1, 0, 0, 0, 0, 0, ...</td>\n",
       "    </tr>\n",
       "    <tr>\n",
       "      <th>6</th>\n",
       "      <td>6</td>\n",
       "      <td>id_00abef1d7</td>\n",
       "      <td>GGAAAACAAUUGCAUCGUUAGUACGACUCCACAGCGUAAGCUGUGG...</td>\n",
       "      <td>.........((((((((......((((((((((((....)))))))...</td>\n",
       "      <td>EEEEEEEEESSSSSSSSIIIIIISSSSSSSSSSSSHHHHSSSSSSS...</td>\n",
       "      <td>2.485</td>\n",
       "      <td>1</td>\n",
       "      <td>107</td>\n",
       "      <td>68</td>\n",
       "      <td>[0.422, 0.5478000000000001, 0.4749000000000000...</td>\n",
       "      <td>...</td>\n",
       "      <td>[0.5827, 0.7555000000000001, 0.5949, 0.4511, 0...</td>\n",
       "      <td>[0.9306000000000001, 1.0496, 0.5844, 0.7796000...</td>\n",
       "      <td>[0.895, 2.3377, 2.2305, 2.003, 1.9006, 1.0373,...</td>\n",
       "      <td>[0.46040000000000003, 3.6695, 0.78550000000000...</td>\n",
       "      <td>[2.7711, 7.365, 1.6924000000000001, 1.43840000...</td>\n",
       "      <td>[1.073, 2.8604000000000003, 1.9936, 1.0273, 1....</td>\n",
       "      <td>[2.0964, 3.3688000000000002, 0.6399, 2.1053, 1...</td>\n",
       "      <td>[[[1, 0, 0, 0]], [[1, 0, 0, 0]], [[0, 1, 0, 0]...</td>\n",
       "      <td>[[[1, 0, 0]], [[1, 0, 0]], [[1, 0, 0]], [[1, 0...</td>\n",
       "      <td>[[[1, 0, 0, 0, 0, 0, 0]], [[1, 0, 0, 0, 0, 0, ...</td>\n",
       "    </tr>\n",
       "    <tr>\n",
       "      <th>7</th>\n",
       "      <td>7</td>\n",
       "      <td>id_00b436dec</td>\n",
       "      <td>GGAAAUCAUCGAGGACGGGUCCGUUCAGCACGCGAAAGCGUCGUGA...</td>\n",
       "      <td>.....(((((((((((..(((((((((..((((....))))..)))...</td>\n",
       "      <td>EEEEESSSSSSSSSSSIISSSSSSSSSIISSSSHHHHSSSSIISSS...</td>\n",
       "      <td>1.727</td>\n",
       "      <td>1</td>\n",
       "      <td>107</td>\n",
       "      <td>68</td>\n",
       "      <td>[0.4843, 0.5233, 0.4554, 0.43520000000000003, ...</td>\n",
       "      <td>...</td>\n",
       "      <td>[0.384, 0.723, 0.4766, 0.30260000000000004, 0....</td>\n",
       "      <td>[0.7429, 0.9137000000000001, 0.480400000000000...</td>\n",
       "      <td>[1.1576, 1.5137, 1.3382, 1.5622, 1.2121, 0.295...</td>\n",
       "      <td>[1.6912, 5.2652, 2.3901, 0.45890000000000003, ...</td>\n",
       "      <td>[1.8641, 2.3767, 1.149, 1.0132, 0.9876, 0.0, 0...</td>\n",
       "      <td>[0.49060000000000004, 4.6339, 1.95860000000000...</td>\n",
       "      <td>[1.2852000000000001, 2.5460000000000003, 0.234...</td>\n",
       "      <td>[[[1, 0, 0, 0]], [[1, 0, 0, 0]], [[0, 1, 0, 0]...</td>\n",
       "      <td>[[[1, 0, 0]], [[1, 0, 0]], [[1, 0, 0]], [[1, 0...</td>\n",
       "      <td>[[[1, 0, 0, 0, 0, 0, 0]], [[1, 0, 0, 0, 0, 0, ...</td>\n",
       "    </tr>\n",
       "    <tr>\n",
       "      <th>...</th>\n",
       "      <td>...</td>\n",
       "      <td>...</td>\n",
       "      <td>...</td>\n",
       "      <td>...</td>\n",
       "      <td>...</td>\n",
       "      <td>...</td>\n",
       "      <td>...</td>\n",
       "      <td>...</td>\n",
       "      <td>...</td>\n",
       "      <td>...</td>\n",
       "      <td>...</td>\n",
       "      <td>...</td>\n",
       "      <td>...</td>\n",
       "      <td>...</td>\n",
       "      <td>...</td>\n",
       "      <td>...</td>\n",
       "      <td>...</td>\n",
       "      <td>...</td>\n",
       "      <td>...</td>\n",
       "      <td>...</td>\n",
       "      <td>...</td>\n",
       "    </tr>\n",
       "    <tr>\n",
       "      <th>2394</th>\n",
       "      <td>2394</td>\n",
       "      <td>id_ff13729b0</td>\n",
       "      <td>GGAAAUAAAUAAAUAACAAUAAAGAGAUAAGACACAAUAAAUAAAA...</td>\n",
       "      <td>.................................................</td>\n",
       "      <td>EEEEEEEEEEEEEEEEEEEEEEEEEEEEEEEEEEEEEEEEEEEEEE...</td>\n",
       "      <td>1.995</td>\n",
       "      <td>0</td>\n",
       "      <td>107</td>\n",
       "      <td>68</td>\n",
       "      <td>[0.3019, 0.33680000000000004, 0.25980000000000...</td>\n",
       "      <td>...</td>\n",
       "      <td>[0.25930000000000003, 0.3074, 0.2109, 0.1995, ...</td>\n",
       "      <td>[0.465, 0.6078, 0.30310000000000004, 0.3873000...</td>\n",
       "      <td>[0.3517, 0.5358, 0.4318, 0.016900000000000002,...</td>\n",
       "      <td>[0.6612, 1.0221, 0.1676, 0.1648, 0.5634, 0.645...</td>\n",
       "      <td>[4.0973, 2.0778, 0.2776, 0.1207, 0.63140000000...</td>\n",
       "      <td>[0.2661, 0.5771000000000001, 0.3517, 0.295, 0....</td>\n",
       "      <td>[0.2897, 1.1666, 0.135, 0.4742, 0.9522, 0.8408...</td>\n",
       "      <td>[[[1, 0, 0, 0]], [[1, 0, 0, 0]], [[0, 1, 0, 0]...</td>\n",
       "      <td>[[[1, 0, 0]], [[1, 0, 0]], [[1, 0, 0]], [[1, 0...</td>\n",
       "      <td>[[[1, 0, 0, 0, 0, 0, 0]], [[1, 0, 0, 0, 0, 0, ...</td>\n",
       "    </tr>\n",
       "    <tr>\n",
       "      <th>2395</th>\n",
       "      <td>2395</td>\n",
       "      <td>id_ff84602f7</td>\n",
       "      <td>GGAAAAUAGCAGAGGAAAUACUAGAGCAAUUGCAAAGGCCGAUCAU...</td>\n",
       "      <td>........((..((......))...)).........(((..........</td>\n",
       "      <td>EEEEEEEESSIISSHHHHHHSSIIISSXXXXXXXXXSSSHHHHHHH...</td>\n",
       "      <td>4.036</td>\n",
       "      <td>1</td>\n",
       "      <td>107</td>\n",
       "      <td>68</td>\n",
       "      <td>[0.2585, 0.29710000000000003, 0.2748, 0.205000...</td>\n",
       "      <td>...</td>\n",
       "      <td>[0.2093, 0.2985, 0.2922, 0.08360000000000001, ...</td>\n",
       "      <td>[0.29460000000000003, 0.40850000000000003, 0.3...</td>\n",
       "      <td>[0.6957, 1.251, 1.3235999999999999, 0.7521, 0....</td>\n",
       "      <td>[0.6439, 2.0117, 1.3682, 0.0918, 0.65860000000...</td>\n",
       "      <td>[2.1589, 3.3601, 1.6179000000000001, 0.1344000...</td>\n",
       "      <td>[0.47900000000000004, 1.9583, 2.4635, 0.0512, ...</td>\n",
       "      <td>[0.5759000000000001, 2.3736, 1.4158, 0.1914000...</td>\n",
       "      <td>[[[1, 0, 0, 0]], [[1, 0, 0, 0]], [[0, 1, 0, 0]...</td>\n",
       "      <td>[[[1, 0, 0]], [[1, 0, 0]], [[1, 0, 0]], [[1, 0...</td>\n",
       "      <td>[[[1, 0, 0, 0, 0, 0, 0]], [[1, 0, 0, 0, 0, 0, ...</td>\n",
       "    </tr>\n",
       "    <tr>\n",
       "      <th>2396</th>\n",
       "      <td>2396</td>\n",
       "      <td>id_ff85fcdba</td>\n",
       "      <td>GGAAAACAAAAACAAACAACAAAAACAAACAACAAAAACAAACAAC...</td>\n",
       "      <td>.................................................</td>\n",
       "      <td>EEEEEEEEEEEEEEEEEEEEEEEEEEEEEEEEEEEEEEEEEEEEEE...</td>\n",
       "      <td>3.227</td>\n",
       "      <td>1</td>\n",
       "      <td>107</td>\n",
       "      <td>68</td>\n",
       "      <td>[0.2169, 0.2513, 0.2303, 0.22260000000000002, ...</td>\n",
       "      <td>...</td>\n",
       "      <td>[0.2758, 0.3659, 0.2155, 0.28340000000000004, ...</td>\n",
       "      <td>[0.401, 0.388, 0.3403, 0.3608, 0.3057, 0.242, ...</td>\n",
       "      <td>[0.2891, 0.4496, 0.7165, 0.7128, 0.59310000000...</td>\n",
       "      <td>[0.3619, 0.6924, 0.2988, 0.3639, 0.545, 0.2263...</td>\n",
       "      <td>[2.8541, 1.6106, 1.4343, 1.0797, 0.6803, 0.559...</td>\n",
       "      <td>[0.2964, 0.9351, 0.2555, 0.7603000000000001, 0...</td>\n",
       "      <td>[0.6526000000000001, 0.2548, 0.6927, 0.9316000...</td>\n",
       "      <td>[[[1, 0, 0, 0]], [[1, 0, 0, 0]], [[0, 1, 0, 0]...</td>\n",
       "      <td>[[[1, 0, 0]], [[1, 0, 0]], [[1, 0, 0]], [[1, 0...</td>\n",
       "      <td>[[[1, 0, 0, 0, 0, 0, 0]], [[1, 0, 0, 0, 0, 0, ...</td>\n",
       "    </tr>\n",
       "    <tr>\n",
       "      <th>2398</th>\n",
       "      <td>2398</td>\n",
       "      <td>id_ffe06f3fe</td>\n",
       "      <td>GGAAACGAUAGCAGAAGAGAUCGAUAUAGAGCAUAAGCUAAGAAUA...</td>\n",
       "      <td>.....((((..(....)..))))......(((....)))..........</td>\n",
       "      <td>EEEEESSSSIISHHHHSIISSSSXXXXXXSSSHHHHSSSXXXXXXX...</td>\n",
       "      <td>5.553</td>\n",
       "      <td>0</td>\n",
       "      <td>107</td>\n",
       "      <td>68</td>\n",
       "      <td>[0.1431, 0.1847, 0.15960000000000002, 0.1466, ...</td>\n",
       "      <td>...</td>\n",
       "      <td>[0.0944, 0.1453, 0.1067, 0.0994, 0.06470000000...</td>\n",
       "      <td>[0.1691, 0.22740000000000002, 0.178, 0.1762, 0...</td>\n",
       "      <td>[0.6919000000000001, 1.4823, 1.3685, 1.2473, 0...</td>\n",
       "      <td>[0.4544, 2.4603, 0.8778, 0.6402, 0.28340000000...</td>\n",
       "      <td>[2.7157999999999998, 3.1249000000000002, 1.137...</td>\n",
       "      <td>[0.3262, 1.3932, 0.8832000000000001, 0.8144, 0...</td>\n",
       "      <td>[0.5814, 1.5119, 1.1749, 1.2676, 0.22190000000...</td>\n",
       "      <td>[[[1, 0, 0, 0]], [[1, 0, 0, 0]], [[0, 1, 0, 0]...</td>\n",
       "      <td>[[[1, 0, 0]], [[1, 0, 0]], [[1, 0, 0]], [[1, 0...</td>\n",
       "      <td>[[[1, 0, 0, 0, 0, 0, 0]], [[1, 0, 0, 0, 0, 0, ...</td>\n",
       "    </tr>\n",
       "    <tr>\n",
       "      <th>2399</th>\n",
       "      <td>2399</td>\n",
       "      <td>id_fff546103</td>\n",
       "      <td>GGAAAGCUAGGACGUGGGAGCGUAGCUCUCCACACGGGUACGCCAA...</td>\n",
       "      <td>.....((((((((((((((((...)))).)))).((((((((((.....</td>\n",
       "      <td>EEEEESSSSSSSSSSSSSSSSHHHSSSSBSSSSMSSSSSSSSSSHH...</td>\n",
       "      <td>6.545</td>\n",
       "      <td>1</td>\n",
       "      <td>107</td>\n",
       "      <td>68</td>\n",
       "      <td>[0.1782, 0.2043, 0.1842, 0.13240000000000002, ...</td>\n",
       "      <td>...</td>\n",
       "      <td>[0.22060000000000002, 0.254, 0.2109, 0.1636, 0...</td>\n",
       "      <td>[0.2379, 0.27590000000000003, 0.22160000000000...</td>\n",
       "      <td>[1.0102, 1.7928000000000002, 1.9228, 0.9649000...</td>\n",
       "      <td>[1.4842, 2.4813, 1.737, 1.2082, 0.959000000000...</td>\n",
       "      <td>[2.3588, 2.2161, 1.2522, 0.7875000000000001, 0...</td>\n",
       "      <td>[1.3281, 2.3854, 2.0464, 1.2384, 0.631, 0.1848...</td>\n",
       "      <td>[0.7043, 1.4864, 1.3035, 1.2176, 0.82900000000...</td>\n",
       "      <td>[[[1, 0, 0, 0]], [[1, 0, 0, 0]], [[0, 1, 0, 0]...</td>\n",
       "      <td>[[[1, 0, 0]], [[1, 0, 0]], [[1, 0, 0]], [[1, 0...</td>\n",
       "      <td>[[[1, 0, 0, 0, 0, 0, 0]], [[1, 0, 0, 0, 0, 0, ...</td>\n",
       "    </tr>\n",
       "  </tbody>\n",
       "</table>\n",
       "<p>2097 rows × 22 columns</p>\n",
       "</div>"
      ],
      "text/plain": [
       "      index            id                                           sequence  \\\n",
       "0         0  id_001f94081  GGAAAAGCUCUAAUAACAGGAGACUAGGACUACGUAUUUCUAGGUA...   \n",
       "2         2  id_006f36f57  GGAAAGUGCUCAGAUAAGCUAAGCUCGAAUAGCAAUCGAAUAGAAU...   \n",
       "5         5  id_00ab2d761  GGAAAGCGCCGCGGCGGUAGCGGCAGCGAGGAGCGCUACCAAGGCA...   \n",
       "6         6  id_00abef1d7  GGAAAACAAUUGCAUCGUUAGUACGACUCCACAGCGUAAGCUGUGG...   \n",
       "7         7  id_00b436dec  GGAAAUCAUCGAGGACGGGUCCGUUCAGCACGCGAAAGCGUCGUGA...   \n",
       "...     ...           ...                                                ...   \n",
       "2394   2394  id_ff13729b0  GGAAAUAAAUAAAUAACAAUAAAGAGAUAAGACACAAUAAAUAAAA...   \n",
       "2395   2395  id_ff84602f7  GGAAAAUAGCAGAGGAAAUACUAGAGCAAUUGCAAAGGCCGAUCAU...   \n",
       "2396   2396  id_ff85fcdba  GGAAAACAAAAACAAACAACAAAAACAAACAACAAAAACAAACAAC...   \n",
       "2398   2398  id_ffe06f3fe  GGAAACGAUAGCAGAAGAGAUCGAUAUAGAGCAUAAGCUAAGAAUA...   \n",
       "2399   2399  id_fff546103  GGAAAGCUAGGACGUGGGAGCGUAGCUCUCCACACGGGUACGCCAA...   \n",
       "\n",
       "                                              structure  \\\n",
       "0     .....((((((.......)))).)).((.....((..((((((......   \n",
       "2     .....((((.((.....((((.(((.....)))..((((......)...   \n",
       "5     .....(.(((((.(((((((((...........)))))))..(((....   \n",
       "6     .........((((((((......((((((((((((....)))))))...   \n",
       "7     .....(((((((((((..(((((((((..((((....))))..)))...   \n",
       "...                                                 ...   \n",
       "2394  .................................................   \n",
       "2395  ........((..((......))...)).........(((..........   \n",
       "2396  .................................................   \n",
       "2398  .....((((..(....)..))))......(((....)))..........   \n",
       "2399  .....((((((((((((((((...)))).)))).((((((((((.....   \n",
       "\n",
       "                                    predicted_loop_type  signal_to_noise  \\\n",
       "0     EEEEESSSSSSHHHHHHHSSSSBSSXSSIIIIISSIISSSSSSHHH...            6.894   \n",
       "2     EEEEESSSSISSIIIIISSSSMSSSHHHHHSSSMMSSSSHHHHHHS...            8.800   \n",
       "5     EEEEESISSSSSISSSSSSSSSHHHHHHHHHHHSSSSSSSMMSSSH...            4.136   \n",
       "6     EEEEEEEEESSSSSSSSIIIIIISSSSSSSSSSSSHHHHSSSSSSS...            2.485   \n",
       "7     EEEEESSSSSSSSSSSIISSSSSSSSSIISSSSHHHHSSSSIISSS...            1.727   \n",
       "...                                                 ...              ...   \n",
       "2394  EEEEEEEEEEEEEEEEEEEEEEEEEEEEEEEEEEEEEEEEEEEEEE...            1.995   \n",
       "2395  EEEEEEEESSIISSHHHHHHSSIIISSXXXXXXXXXSSSHHHHHHH...            4.036   \n",
       "2396  EEEEEEEEEEEEEEEEEEEEEEEEEEEEEEEEEEEEEEEEEEEEEE...            3.227   \n",
       "2398  EEEEESSSSIISHHHHSIISSSSXXXXXXSSSHHHHSSSXXXXXXX...            5.553   \n",
       "2399  EEEEESSSSSSSSSSSSSSSSHHHSSSSBSSSSMSSSSSSSSSSHH...            6.545   \n",
       "\n",
       "      SN_filter  seq_length  seq_scored  \\\n",
       "0             1         107          68   \n",
       "2             1         107          68   \n",
       "5             1         107          68   \n",
       "6             1         107          68   \n",
       "7             1         107          68   \n",
       "...         ...         ...         ...   \n",
       "2394          0         107          68   \n",
       "2395          1         107          68   \n",
       "2396          1         107          68   \n",
       "2398          0         107          68   \n",
       "2399          1         107          68   \n",
       "\n",
       "                                       reactivity_error  ...  \\\n",
       "0     [0.1359, 0.20700000000000002, 0.1633, 0.1452, ...  ...   \n",
       "2     [0.0931, 0.13290000000000002, 0.11280000000000...  ...   \n",
       "5     [0.1942, 0.2041, 0.1626, 0.1213, 0.10590000000...  ...   \n",
       "6     [0.422, 0.5478000000000001, 0.4749000000000000...  ...   \n",
       "7     [0.4843, 0.5233, 0.4554, 0.43520000000000003, ...  ...   \n",
       "...                                                 ...  ...   \n",
       "2394  [0.3019, 0.33680000000000004, 0.25980000000000...  ...   \n",
       "2395  [0.2585, 0.29710000000000003, 0.2748, 0.205000...  ...   \n",
       "2396  [0.2169, 0.2513, 0.2303, 0.22260000000000002, ...  ...   \n",
       "2398  [0.1431, 0.1847, 0.15960000000000002, 0.1466, ...  ...   \n",
       "2399  [0.1782, 0.2043, 0.1842, 0.13240000000000002, ...  ...   \n",
       "\n",
       "                                       deg_error_Mg_50C  \\\n",
       "0     [0.1501, 0.275, 0.0947, 0.18660000000000002, 0...   \n",
       "2     [0.1033, 0.1464, 0.1126, 0.09620000000000001, ...   \n",
       "5     [0.165, 0.20520000000000002, 0.179, 0.1333, 0....   \n",
       "6     [0.5827, 0.7555000000000001, 0.5949, 0.4511, 0...   \n",
       "7     [0.384, 0.723, 0.4766, 0.30260000000000004, 0....   \n",
       "...                                                 ...   \n",
       "2394  [0.25930000000000003, 0.3074, 0.2109, 0.1995, ...   \n",
       "2395  [0.2093, 0.2985, 0.2922, 0.08360000000000001, ...   \n",
       "2396  [0.2758, 0.3659, 0.2155, 0.28340000000000004, ...   \n",
       "2398  [0.0944, 0.1453, 0.1067, 0.0994, 0.06470000000...   \n",
       "2399  [0.22060000000000002, 0.254, 0.2109, 0.1636, 0...   \n",
       "\n",
       "                                          deg_error_50C  \\\n",
       "0     [0.2167, 0.34750000000000003, 0.188, 0.2124, 0...   \n",
       "2     [0.14980000000000002, 0.1761, 0.1517, 0.116700...   \n",
       "5     [0.2864, 0.24710000000000001, 0.2222, 0.1903, ...   \n",
       "6     [0.9306000000000001, 1.0496, 0.5844, 0.7796000...   \n",
       "7     [0.7429, 0.9137000000000001, 0.480400000000000...   \n",
       "...                                                 ...   \n",
       "2394  [0.465, 0.6078, 0.30310000000000004, 0.3873000...   \n",
       "2395  [0.29460000000000003, 0.40850000000000003, 0.3...   \n",
       "2396  [0.401, 0.388, 0.3403, 0.3608, 0.3057, 0.242, ...   \n",
       "2398  [0.1691, 0.22740000000000002, 0.178, 0.1762, 0...   \n",
       "2399  [0.2379, 0.27590000000000003, 0.22160000000000...   \n",
       "\n",
       "                                             reactivity  \\\n",
       "0     [0.3297, 1.5693000000000001, 1.1227, 0.8686, 0...   \n",
       "2     [0.44820000000000004, 1.4822, 1.1819, 0.743400...   \n",
       "5     [0.7642, 1.6641, 1.0622, 0.5008, 0.4107, 0.133...   \n",
       "6     [0.895, 2.3377, 2.2305, 2.003, 1.9006, 1.0373,...   \n",
       "7     [1.1576, 1.5137, 1.3382, 1.5622, 1.2121, 0.295...   \n",
       "...                                                 ...   \n",
       "2394  [0.3517, 0.5358, 0.4318, 0.016900000000000002,...   \n",
       "2395  [0.6957, 1.251, 1.3235999999999999, 0.7521, 0....   \n",
       "2396  [0.2891, 0.4496, 0.7165, 0.7128, 0.59310000000...   \n",
       "2398  [0.6919000000000001, 1.4823, 1.3685, 1.2473, 0...   \n",
       "2399  [1.0102, 1.7928000000000002, 1.9228, 0.9649000...   \n",
       "\n",
       "                                            deg_Mg_pH10  \\\n",
       "0     [0.7556, 2.983, 0.2526, 1.3789, 0.637600000000...   \n",
       "2     [0.2504, 1.4021, 0.9804, 0.49670000000000003, ...   \n",
       "5     [0.9559000000000001, 1.9442, 1.0114, 0.5105000...   \n",
       "6     [0.46040000000000003, 3.6695, 0.78550000000000...   \n",
       "7     [1.6912, 5.2652, 2.3901, 0.45890000000000003, ...   \n",
       "...                                                 ...   \n",
       "2394  [0.6612, 1.0221, 0.1676, 0.1648, 0.5634, 0.645...   \n",
       "2395  [0.6439, 2.0117, 1.3682, 0.0918, 0.65860000000...   \n",
       "2396  [0.3619, 0.6924, 0.2988, 0.3639, 0.545, 0.2263...   \n",
       "2398  [0.4544, 2.4603, 0.8778, 0.6402, 0.28340000000...   \n",
       "2399  [1.4842, 2.4813, 1.737, 1.2082, 0.959000000000...   \n",
       "\n",
       "                                               deg_pH10  \\\n",
       "0     [2.3375, 3.5060000000000002, 0.3008, 1.0108, 0...   \n",
       "2     [2.243, 2.9361, 1.0553, 0.721, 0.6396000000000...   \n",
       "5     [1.9554, 2.1298, 1.0403, 0.609, 0.5486, 0.386,...   \n",
       "6     [2.7711, 7.365, 1.6924000000000001, 1.43840000...   \n",
       "7     [1.8641, 2.3767, 1.149, 1.0132, 0.9876, 0.0, 0...   \n",
       "...                                                 ...   \n",
       "2394  [4.0973, 2.0778, 0.2776, 0.1207, 0.63140000000...   \n",
       "2395  [2.1589, 3.3601, 1.6179000000000001, 0.1344000...   \n",
       "2396  [2.8541, 1.6106, 1.4343, 1.0797, 0.6803, 0.559...   \n",
       "2398  [2.7157999999999998, 3.1249000000000002, 1.137...   \n",
       "2399  [2.3588, 2.2161, 1.2522, 0.7875000000000001, 0...   \n",
       "\n",
       "                                             deg_Mg_50C  \\\n",
       "0     [0.35810000000000003, 2.9683, 0.2589, 1.4552, ...   \n",
       "2     [0.5163, 1.6823000000000001, 1.0426, 0.7902, 0...   \n",
       "5     [0.22460000000000002, 1.7281, 1.381, 0.6623, 0...   \n",
       "6     [1.073, 2.8604000000000003, 1.9936, 1.0273, 1....   \n",
       "7     [0.49060000000000004, 4.6339, 1.95860000000000...   \n",
       "...                                                 ...   \n",
       "2394  [0.2661, 0.5771000000000001, 0.3517, 0.295, 0....   \n",
       "2395  [0.47900000000000004, 1.9583, 2.4635, 0.0512, ...   \n",
       "2396  [0.2964, 0.9351, 0.2555, 0.7603000000000001, 0...   \n",
       "2398  [0.3262, 1.3932, 0.8832000000000001, 0.8144, 0...   \n",
       "2399  [1.3281, 2.3854, 2.0464, 1.2384, 0.631, 0.1848...   \n",
       "\n",
       "                                                deg_50C  \\\n",
       "0     [0.6382, 3.4773, 0.9988, 1.3228, 0.78770000000...   \n",
       "2     [0.9501000000000001, 1.7974999999999999, 1.499...   \n",
       "5     [0.5882000000000001, 1.1786, 0.9704, 0.6035, 0...   \n",
       "6     [2.0964, 3.3688000000000002, 0.6399, 2.1053, 1...   \n",
       "7     [1.2852000000000001, 2.5460000000000003, 0.234...   \n",
       "...                                                 ...   \n",
       "2394  [0.2897, 1.1666, 0.135, 0.4742, 0.9522, 0.8408...   \n",
       "2395  [0.5759000000000001, 2.3736, 1.4158, 0.1914000...   \n",
       "2396  [0.6526000000000001, 0.2548, 0.6927, 0.9316000...   \n",
       "2398  [0.5814, 1.5119, 1.1749, 1.2676, 0.22190000000...   \n",
       "2399  [0.7043, 1.4864, 1.3035, 1.2176, 0.82900000000...   \n",
       "\n",
       "                                            One_hot seq  \\\n",
       "0     [[[1, 0, 0, 0]], [[1, 0, 0, 0]], [[0, 1, 0, 0]...   \n",
       "2     [[[1, 0, 0, 0]], [[1, 0, 0, 0]], [[0, 1, 0, 0]...   \n",
       "5     [[[1, 0, 0, 0]], [[1, 0, 0, 0]], [[0, 1, 0, 0]...   \n",
       "6     [[[1, 0, 0, 0]], [[1, 0, 0, 0]], [[0, 1, 0, 0]...   \n",
       "7     [[[1, 0, 0, 0]], [[1, 0, 0, 0]], [[0, 1, 0, 0]...   \n",
       "...                                                 ...   \n",
       "2394  [[[1, 0, 0, 0]], [[1, 0, 0, 0]], [[0, 1, 0, 0]...   \n",
       "2395  [[[1, 0, 0, 0]], [[1, 0, 0, 0]], [[0, 1, 0, 0]...   \n",
       "2396  [[[1, 0, 0, 0]], [[1, 0, 0, 0]], [[0, 1, 0, 0]...   \n",
       "2398  [[[1, 0, 0, 0]], [[1, 0, 0, 0]], [[0, 1, 0, 0]...   \n",
       "2399  [[[1, 0, 0, 0]], [[1, 0, 0, 0]], [[0, 1, 0, 0]...   \n",
       "\n",
       "                                       One hot strucure  \\\n",
       "0     [[[1, 0, 0]], [[1, 0, 0]], [[1, 0, 0]], [[1, 0...   \n",
       "2     [[[1, 0, 0]], [[1, 0, 0]], [[1, 0, 0]], [[1, 0...   \n",
       "5     [[[1, 0, 0]], [[1, 0, 0]], [[1, 0, 0]], [[1, 0...   \n",
       "6     [[[1, 0, 0]], [[1, 0, 0]], [[1, 0, 0]], [[1, 0...   \n",
       "7     [[[1, 0, 0]], [[1, 0, 0]], [[1, 0, 0]], [[1, 0...   \n",
       "...                                                 ...   \n",
       "2394  [[[1, 0, 0]], [[1, 0, 0]], [[1, 0, 0]], [[1, 0...   \n",
       "2395  [[[1, 0, 0]], [[1, 0, 0]], [[1, 0, 0]], [[1, 0...   \n",
       "2396  [[[1, 0, 0]], [[1, 0, 0]], [[1, 0, 0]], [[1, 0...   \n",
       "2398  [[[1, 0, 0]], [[1, 0, 0]], [[1, 0, 0]], [[1, 0...   \n",
       "2399  [[[1, 0, 0]], [[1, 0, 0]], [[1, 0, 0]], [[1, 0...   \n",
       "\n",
       "                                encoding predicted loop  \n",
       "0     [[[1, 0, 0, 0, 0, 0, 0]], [[1, 0, 0, 0, 0, 0, ...  \n",
       "2     [[[1, 0, 0, 0, 0, 0, 0]], [[1, 0, 0, 0, 0, 0, ...  \n",
       "5     [[[1, 0, 0, 0, 0, 0, 0]], [[1, 0, 0, 0, 0, 0, ...  \n",
       "6     [[[1, 0, 0, 0, 0, 0, 0]], [[1, 0, 0, 0, 0, 0, ...  \n",
       "7     [[[1, 0, 0, 0, 0, 0, 0]], [[1, 0, 0, 0, 0, 0, ...  \n",
       "...                                                 ...  \n",
       "2394  [[[1, 0, 0, 0, 0, 0, 0]], [[1, 0, 0, 0, 0, 0, ...  \n",
       "2395  [[[1, 0, 0, 0, 0, 0, 0]], [[1, 0, 0, 0, 0, 0, ...  \n",
       "2396  [[[1, 0, 0, 0, 0, 0, 0]], [[1, 0, 0, 0, 0, 0, ...  \n",
       "2398  [[[1, 0, 0, 0, 0, 0, 0]], [[1, 0, 0, 0, 0, 0, ...  \n",
       "2399  [[[1, 0, 0, 0, 0, 0, 0]], [[1, 0, 0, 0, 0, 0, ...  \n",
       "\n",
       "[2097 rows x 22 columns]"
      ]
     },
     "execution_count": 22,
     "metadata": {},
     "output_type": "execute_result"
    }
   ],
   "source": [
    "def one_hot_encoding(df, name_colonne):\n",
    "    \"\"\"\n",
    "    Fonction pour encoder les sequences, structures et type boucles : One hot encoding\n",
    "        :Parameters:\n",
    "            df = data frame : train et test de départ\n",
    "            name_colonne = le nom de la colonne du df \n",
    "        :Return:\n",
    "            un tableau\n",
    "    \"\"\"\n",
    "    frst_lst = []\n",
    "    for r in df[name_colonne]:\n",
    "        for i in range(len(r)):\n",
    "            if r[i] not in frst_lst:\n",
    "                frst_lst.append(r[i])\n",
    "    dico = {}\n",
    "    ar = np.zeros(shape=(1,len(frst_lst)),dtype=int)\n",
    "    for i, l in enumerate(frst_lst):\n",
    "        ar2 = ar.copy()\n",
    "        ar2[0][i]=1\n",
    "        dico[l]=ar2\n",
    "    scnd_lst = []\n",
    "    for r in df[name_colonne]:\n",
    "        lst = [] \n",
    "        for i in range(len(r)):\n",
    "            #print(dico[r[i]], r[i])\n",
    "            lst.append(dico[r[i]])\n",
    "        scnd_lst.append(lst)\n",
    "    return np.array(scnd_lst)\n",
    "\n",
    "tab = one_hot_encoding(first68_train, 'sequence')\n",
    "tab2 = one_hot_encoding(first68_train, 'structure')\n",
    "tab3 = one_hot_encoding(first68_train, 'predicted_loop_type')\n",
    "\n",
    "first68_train[\"One_hot seq\"] = tab.tolist() # ajout des colonnes encoding a notre DF de départ\n",
    "first68_train[\"One hot strucure\"] = tab2.tolist()\n",
    "first68_train[\"encoding predicted loop\"] = tab3.tolist()\n",
    "first68_train"
   ]
  },
  {
   "cell_type": "code",
   "execution_count": 23,
   "metadata": {},
   "outputs": [],
   "source": [
    "def right_format(df, colname):\n",
    "    \"\"\"\n",
    "    juste pck j'crois que y'avait des liste dans des listes\n",
    "    j'ai transformé en liste d'array\n",
    "    \"\"\"\n",
    "    x1 = df[colname].copy()\n",
    "    x2 = []\n",
    "    for r in x1:\n",
    "        lst = []\n",
    "        for u in r:\n",
    "            lst.append(np.array(u[0], float))\n",
    "        lst = np.array(lst)\n",
    "        x2.append(lst)\n",
    "\n",
    "    return x2"
   ]
  },
  {
   "cell_type": "code",
   "execution_count": 24,
   "metadata": {},
   "outputs": [
    {
     "data": {
      "text/plain": [
       "array([[[1., 0., 0., 0.],\n",
       "        [1., 0., 0., 0.],\n",
       "        [0., 1., 0., 0.],\n",
       "        ...,\n",
       "        [1., 0., 0., 0.],\n",
       "        [0., 0., 1., 0.],\n",
       "        [0., 1., 0., 0.]],\n",
       "\n",
       "       [[1., 0., 0., 0.],\n",
       "        [1., 0., 0., 0.],\n",
       "        [0., 1., 0., 0.],\n",
       "        ...,\n",
       "        [0., 1., 0., 0.],\n",
       "        [0., 0., 0., 1.],\n",
       "        [0., 1., 0., 0.]],\n",
       "\n",
       "       [[1., 0., 0., 0.],\n",
       "        [1., 0., 0., 0.],\n",
       "        [0., 1., 0., 0.],\n",
       "        ...,\n",
       "        [0., 1., 0., 0.],\n",
       "        [0., 0., 1., 0.],\n",
       "        [0., 1., 0., 0.]],\n",
       "\n",
       "       ...,\n",
       "\n",
       "       [[1., 0., 0., 0.],\n",
       "        [1., 0., 0., 0.],\n",
       "        [0., 1., 0., 0.],\n",
       "        ...,\n",
       "        [0., 1., 0., 0.],\n",
       "        [0., 1., 0., 0.],\n",
       "        [0., 1., 0., 0.]],\n",
       "\n",
       "       [[1., 0., 0., 0.],\n",
       "        [1., 0., 0., 0.],\n",
       "        [0., 1., 0., 0.],\n",
       "        ...,\n",
       "        [0., 1., 0., 0.],\n",
       "        [0., 0., 0., 1.],\n",
       "        [0., 0., 1., 0.]],\n",
       "\n",
       "       [[1., 0., 0., 0.],\n",
       "        [1., 0., 0., 0.],\n",
       "        [0., 1., 0., 0.],\n",
       "        ...,\n",
       "        [0., 1., 0., 0.],\n",
       "        [1., 0., 0., 0.],\n",
       "        [0., 0., 1., 0.]]])"
      ]
     },
     "execution_count": 24,
     "metadata": {},
     "output_type": "execute_result"
    }
   ],
   "source": [
    "x_seq = right_format(first68_train, \"One_hot seq\")\n",
    "#x_strct = right_format(first68_train, \"One hot strucure\")\n",
    "#x_loop = right_format(first68_train, \"encoding predicted loop\")\n",
    "\n",
    "#print(len(x_seq))\n",
    "#print(len(x_strct))\n",
    "#print(len(x_loop))\n",
    "x_seq = np.array(x_seq)\n",
    "x_seq"
   ]
  },
  {
   "cell_type": "code",
   "execution_count": 21,
   "metadata": {},
   "outputs": [],
   "source": [
    "y1 = first68_train['reactivity'].values\n",
    "y2 = first68_train['deg_Mg_pH10'].values\n",
    "y3 = first68_train['deg_Mg_50C'].values"
   ]
  },
  {
   "cell_type": "code",
   "execution_count": 22,
   "metadata": {},
   "outputs": [
    {
     "data": {
      "text/plain": [
       "<tf.Tensor: shape=(1887, 107, 3), dtype=int64, numpy=\n",
       "array([[[5, 2, 8],\n",
       "        [5, 2, 8],\n",
       "        [3, 2, 8],\n",
       "        ...,\n",
       "        [3, 2, 8],\n",
       "        [3, 2, 8],\n",
       "        [4, 2, 8]],\n",
       "\n",
       "       [[5, 2, 8],\n",
       "        [5, 2, 8],\n",
       "        [3, 2, 8],\n",
       "        ...,\n",
       "        [3, 2, 8],\n",
       "        [3, 2, 8],\n",
       "        [4, 2, 8]],\n",
       "\n",
       "       [[5, 2, 8],\n",
       "        [5, 2, 8],\n",
       "        [3, 2, 8],\n",
       "        ...,\n",
       "        [3, 2, 8],\n",
       "        [3, 2, 8],\n",
       "        [4, 2, 8]],\n",
       "\n",
       "       ...,\n",
       "\n",
       "       [[5, 2, 8],\n",
       "        [5, 2, 8],\n",
       "        [3, 2, 8],\n",
       "        ...,\n",
       "        [3, 2, 8],\n",
       "        [3, 2, 8],\n",
       "        [4, 2, 8]],\n",
       "\n",
       "       [[5, 2, 8],\n",
       "        [5, 2, 8],\n",
       "        [3, 2, 8],\n",
       "        ...,\n",
       "        [3, 2, 8],\n",
       "        [3, 2, 8],\n",
       "        [4, 2, 8]],\n",
       "\n",
       "       [[5, 2, 8],\n",
       "        [5, 2, 8],\n",
       "        [3, 2, 8],\n",
       "        ...,\n",
       "        [3, 2, 8],\n",
       "        [3, 2, 8],\n",
       "        [4, 2, 8]]])>"
      ]
     },
     "execution_count": 22,
     "metadata": {},
     "output_type": "execute_result"
    }
   ],
   "source": [
    "x_train = tf.convert_to_tensor(x_train)\n",
    "x_train"
   ]
  },
  {
   "cell_type": "code",
   "execution_count": 224,
   "metadata": {},
   "outputs": [
    {
     "data": {
      "text/plain": [
       "array([list([0.3297, 1.5693000000000001, 1.1227, 0.8686, 0.7217, 0.4384, 0.256, 0.33640000000000003, 0.21680000000000002, 0.3583, 0.9541000000000001, 1.4113, 1.6911, 1.2494, 1.1895, 0.6909000000000001, 0.4736, 0.1754, 0.0582, 0.21730000000000002, 0.0785, 0.8249000000000001, 0.7638, 0.1095, 0.25680000000000003, 0.08950000000000001, 0.15760000000000002, 0.7727, 0.1573, 0.5043, 1.0444, 0.4766, 0.5588000000000001, 0.9054000000000001, 1.0125, 1.0482, 1.044, 0.45220000000000005, 0.211, 0.0461, 0.082, 0.06430000000000001, 0.1526, 0.08940000000000001, 0.5081, 1.0745, 0.3215, 0.0716, 0.0244, 0.0123, 0.19840000000000002, 0.49610000000000004, 1.0641, 0.6394000000000001, 0.6789000000000001, 0.365, 0.1741, 0.1408, 0.1646, 0.5389, 0.683, 0.4273, 0.052700000000000004, 0.0693, 0.1398, 0.2937, 0.23620000000000002, 0.5731]),\n",
       "       list([0.44820000000000004, 1.4822, 1.1819, 0.7434000000000001, 0.7148, 0.6529, 0.22390000000000002, 0.1927, 0.19690000000000002, 0.3033, 0.6176, 0.38580000000000003, 1.0418, 0.6581, 1.1053, 0.6224000000000001, 0.4591, 0.19890000000000002, 0.1632, 0.5538000000000001, 0.6342, 0.25470000000000004, 0.17420000000000002, 0.2447, 0.1331, 0.09580000000000001, 0.29760000000000003, 0.4863, 0.7058, 0.4929, 0.3874, 0.10490000000000001, 0.0915, 0.34900000000000003, 0.6972, 0.0789, 0.0442, 0.29, 0.25420000000000004, 0.8123, 0.7938000000000001, 0.26830000000000004, 0.6897, 0.4113, 0.9513, 0.1182, 0.056900000000000006, 0.3467, 0.3766, 0.4152, 0.8663000000000001, 0.5321, 0.5652, 0.0862, 0.09910000000000001, 0.44420000000000004, 0.08850000000000001, 0.0444, 0.14250000000000002, 0.355, 0.3352, 0.28040000000000004, 0.3229, 0.8048000000000001, 0.3103, 0.6449, 0.04, 0.5446]),\n",
       "       list([0.7642, 1.6641, 1.0622, 0.5008, 0.4107, 0.1337, 0.22990000000000002, 0.051000000000000004, 0.0, 0.0442, 0.0, 0.0, 0.12810000000000002, 0.0539, 0.0352, 0.0917, 0.0796, 0.1317, 0.5695, 0.0665, 0.0252, 0.29810000000000003, 0.2654, 0.19460000000000002, 0.7547, 0.3346, 0.251, 0.5642, 0.5482, 0.3196, 0.6753, 0.4833, 0.4534, 0.2666, 0.459, 0.2078, 0.8759, 1.2778, 0.064, 0.40190000000000003, 0.3735, 0.1985, 0.6163000000000001, 0.2117, 0.068, 0.036000000000000004, 0.3497, 0.5744, 0.0941, 0.0405, 0.035500000000000004, 0.0089, 0.022600000000000002, 0.026500000000000003, 0.0529, 0.1621, 0.0023, 0.0505, 0.0371, 0.031, 0.0173, 0.0734, 0.14120000000000002, 0.6143000000000001, 0.2447, 0.1107, 0.22610000000000002, 0.32380000000000003]),\n",
       "       ...,\n",
       "       list([0.2891, 0.4496, 0.7165, 0.7128, 0.5931000000000001, 0.3504, 0.44870000000000004, 0.5889, 0.27990000000000004, 0.8551000000000001, 0.7762, 0.3123, 0.3597, 0.34040000000000004, 0.44820000000000004, 0.727, 0.0665, 0.6149, 0.096, 0.49360000000000004, 0.40540000000000004, 0.22940000000000002, 0.5747, 0.4419, 0.22890000000000002, 0.21250000000000002, 0.2798, 0.42110000000000003, 0.22840000000000002, 0.1265, 0.4012, 0.2831, 0.4413, 0.4106, 0.1998, 0.4758, 0.5135000000000001, 0.17450000000000002, 0.25220000000000004, 0.3064, 0.2401, 0.1154, 0.1976, 0.251, 0.3035, 0.41910000000000003, 0.2913, 0.1617, 0.49060000000000004, 0.49970000000000003, 0.2388, 0.3103, 0.38070000000000004, 0.5522, 0.2495, 0.23550000000000001, 0.47600000000000003, 0.182, 0.833, 0.37560000000000004, 0.4428, 0.9051, 0.669, 0.4697, 0.3113, 0.8738, 0.2816, 0.554]),\n",
       "       list([0.6919000000000001, 1.4823, 1.3685, 1.2473, 0.1953, 0.0329, 0.6012000000000001, 0.9031, 0.5073, 0.6996, 0.3976, 0.34450000000000003, 0.3476, 1.0195, 0.5443, 0.18610000000000002, 0.49520000000000003, 0.022600000000000002, 0.4293, -0.36150000000000004, -0.010100000000000001, -0.0545, -0.17420000000000002, 0.3027, 0.2243, 0.3493, 0.17650000000000002, 0.07010000000000001, 0.0876, -0.0222, 0.1981, 0.1824, 0.16590000000000002, 0.1593, 0.13, 0.15430000000000002, 0.11510000000000001, 0.0252, 0.0791, 0.0555, 0.0159, 0.1287, 0.0718, 0.13190000000000002, 0.1121, 0.1177, 0.32980000000000004, 0.1791, 0.4717, 0.30910000000000004, 0.22790000000000002, 0.33890000000000003, 0.766, 0.6367, 0.5952000000000001, 0.2506, 0.3242, 0.9117000000000001, 0.5795, 0.6046, 0.7225, 0.5599000000000001, 0.849, 0.2333, 0.2155, 0.9315, 0.2745, 0.1013]),\n",
       "       list([1.0102, 1.7928000000000002, 1.9228, 0.9649000000000001, 0.5666, 0.2154, 0.0455, 0.012700000000000001, 0.02, 0.025400000000000002, 0.27690000000000003, 0.2242, 1.0684, 0.49770000000000003, 0.2255, 0.0621, 0.0507, 0.095, 0.056, 0.0444, 0.1978, 2.0917, 1.2969, 0.553, 0.1053, 0.1784, 0.0441, 0.46840000000000004, 1.4506000000000001, 0.2059, 0.1908, 0.48260000000000003, 0.1558, 0.4904, 0.024300000000000002, 0.0074, 0.0, 0.023100000000000002, 0.024200000000000003, 0.0, -0.0105, 0.0177, 0.0877, 0.26890000000000003, 1.4352, 1.9672, 0.2942, 0.12480000000000001, 0.0779, 0.029400000000000003, 0.024800000000000003, 0.0429, 0.0357, 0.192, 1.1468, 0.0057, 0.022, 0.06520000000000001, 0.43320000000000003, 0.4378, 0.23020000000000002, 0.4202, 0.6952, 0.027200000000000002, 0.038200000000000005, 0.0381, -0.0066, 0.07060000000000001])],\n",
       "      dtype=object)"
      ]
     },
     "execution_count": 224,
     "metadata": {},
     "output_type": "execute_result"
    }
   ],
   "source": [
    "y1"
   ]
  },
  {
   "cell_type": "code",
   "execution_count": 228,
   "metadata": {},
   "outputs": [
    {
     "data": {
      "text/plain": [
       "<tf.Tensor: shape=(1887, 68, 3), dtype=float64, numpy=\n",
       "array([[[0.3041, 0.3322, 0.4213],\n",
       "        [1.7311, 1.6811, 1.3996],\n",
       "        [1.2554, 0.8533, 1.1203],\n",
       "        ...,\n",
       "        [0.2271, 0.2281, 0.2264],\n",
       "        [0.2261, 0.3028, 0.2245],\n",
       "        [0.5701, 0.8259, 0.2462]],\n",
       "\n",
       "       [[0.8709, 0.4808, 0.4952],\n",
       "        [3.4296, 3.2291, 3.6226],\n",
       "        [1.564 , 2.2518, 2.0154],\n",
       "        ...,\n",
       "        [0.5661, 0.5359, 0.9449],\n",
       "        [0.9591, 0.3728, 0.4612],\n",
       "        [0.182 , 1.0262, 0.8275]],\n",
       "\n",
       "       [[0.7129, 0.8175, 0.3888],\n",
       "        [1.9962, 4.2932, 3.0685],\n",
       "        [0.733 , 1.0769, 1.0348],\n",
       "        ...,\n",
       "        [0.03  , 0.2056, 0.081 ],\n",
       "        [0.0518, 0.7357, 0.481 ],\n",
       "        [0.7724, 0.8423, 0.2484]],\n",
       "\n",
       "       ...,\n",
       "\n",
       "       [[1.1755, 0.7854, 0.7026],\n",
       "        [1.6162, 5.2026, 2.6689],\n",
       "        [1.385 , 1.1572, 1.051 ],\n",
       "        ...,\n",
       "        [0.0478, 0.3731, 0.101 ],\n",
       "        [0.1235, 0.9291, 0.5529],\n",
       "        [0.4677, 0.8325, 0.6064]],\n",
       "\n",
       "       [[0.1603, 0.1387, 0.25  ],\n",
       "        [0.4112, 0.7426, 0.7678],\n",
       "        [0.5019, 0.4104, 0.5029],\n",
       "        ...,\n",
       "        [0.0306, 0.1505, 0.066 ],\n",
       "        [0.0118, 0.1191, 0.0946],\n",
       "        [0.0183, 0.1795, 0.1864]],\n",
       "\n",
       "       [[0.7579, 0.7713, 0.4801],\n",
       "        [2.266 , 3.0089, 3.0273],\n",
       "        [1.742 , 0.3797, 0.5943],\n",
       "        ...,\n",
       "        [0.8495, 0.7897, 0.9632],\n",
       "        [0.5989, 0.6496, 0.6959],\n",
       "        [0.3433, 0.5518, 0.3826]]])>"
      ]
     },
     "execution_count": 228,
     "metadata": {},
     "output_type": "execute_result"
    }
   ],
   "source": [
    "tf.convert_to_tensor(y_train)"
   ]
  },
  {
   "cell_type": "code",
   "execution_count": null,
   "metadata": {},
   "outputs": [],
   "source": []
  }
 ],
 "metadata": {
  "kernelspec": {
   "display_name": "Python 3",
   "language": "python",
   "name": "python3"
  },
  "language_info": {
   "codemirror_mode": {
    "name": "ipython",
    "version": 3
   },
   "file_extension": ".py",
   "mimetype": "text/x-python",
   "name": "python",
   "nbconvert_exporter": "python",
   "pygments_lexer": "ipython3",
   "version": "3.8.5"
  }
 },
 "nbformat": 4,
 "nbformat_minor": 4
}
