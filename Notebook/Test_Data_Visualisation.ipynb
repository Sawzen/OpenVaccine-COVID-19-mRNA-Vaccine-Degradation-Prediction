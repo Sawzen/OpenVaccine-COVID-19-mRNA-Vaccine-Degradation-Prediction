{
 "cells": [
  {
   "cell_type": "code",
   "execution_count": 7,
   "metadata": {},
   "outputs": [],
   "source": [
    "import pandas as pd\n",
    "import numpy as np\n",
    "import matplotlib\n",
    "import matplotlib.pyplot as plt"
   ]
  },
  {
   "cell_type": "code",
   "execution_count": 3,
   "metadata": {},
   "outputs": [],
   "source": [
    "train = pd.read_json(\"train.json\", lines=True)\n",
    "test = pd.read_json(\"test.json\", lines=True)\n",
    "sub = pd.read_csv(\"sample_submission.csv\")"
   ]
  },
  {
   "cell_type": "code",
   "execution_count": 4,
   "metadata": {},
   "outputs": [],
   "source": [
    "def dico_nbr(lst):\n",
    "    \"\"\"\n",
    "    \"\"\"\n",
    "    seq_list = []\n",
    "    for b in lst :\n",
    "        if b not in lst:\n",
    "            lst.append(b)\n",
    "\n",
    "    dico = {}\n",
    "\n",
    "    for b in lst:\n",
    "        dico[b] = lst.count(b)\n",
    "    \n",
    "    return dico\n",
    "\n",
    "\n",
    "\n",
    "def max_dstrb_df(df, col):\n",
    "    \"\"\"\n",
    "    fonction pour faire des df pour la distribution en fonction du max de\n",
    "    la degradation\n",
    "    params : df : train par exemple\n",
    "             col : 'reactivity' par exemple\n",
    "    \"\"\"\n",
    "    base = []\n",
    "    struct = []\n",
    "    loop = []\n",
    "    \n",
    "    for line in df.iterrows():\n",
    "        base.append(line[1]['sequence'][line[1][col].index(max(line[1][col]))])\n",
    "        struct.append(line[1]['structure'][line[1][col].index(max(line[1][col]))])\n",
    "        loop.append(line[1]['predicted_loop_type'][line[1][col].index(max(line[1][col]))])\n",
    "    \n",
    "    di_base = dico_nbr(base)\n",
    "    di_strct = dico_nbr(struct)\n",
    "    di_loop = dico_nbr(loop)\n",
    "\n",
    "    \n",
    "    return di_base, di_strct, di_loop\n",
    "\n",
    "\n",
    "def min_dstrb_df(df, col):\n",
    "    \"\"\"\n",
    "    fonction pour faire des df pour la distribution en fonction du min de\n",
    "    la degradation\n",
    "    params : df : train par exemple\n",
    "             col : 'reactivity' par exemple\n",
    "    \"\"\"\n",
    "    base = []\n",
    "    struct = []\n",
    "    loop = []\n",
    "    \n",
    "    for line in df.iterrows():\n",
    "        base.append(line[1]['sequence'][line[1][col].index(min(line[1][col]))])\n",
    "        struct.append(line[1]['structure'][line[1][col].index(min(line[1][col]))])\n",
    "        loop.append(line[1]['predicted_loop_type'][line[1][col].index(min(line[1][col]))])\n",
    "    \n",
    "    di_base = dico_nbr(base)\n",
    "    di_strct = dico_nbr(struct)\n",
    "    di_loop = dico_nbr(loop)\n",
    "\n",
    "    \n",
    "    return di_base, di_strct, di_loop"
   ]
  },
  {
   "cell_type": "code",
   "execution_count": 14,
   "metadata": {},
   "outputs": [
    {
     "name": "stdout",
     "output_type": "stream",
     "text": [
      "{'.': 2090, ')': 167, '(': 143}\n",
      "{'.': 2160, ')': 124, '(': 116}\n"
     ]
    },
    {
     "data": {
      "text/html": [
       "<div>\n",
       "<style scoped>\n",
       "    .dataframe tbody tr th:only-of-type {\n",
       "        vertical-align: middle;\n",
       "    }\n",
       "\n",
       "    .dataframe tbody tr th {\n",
       "        vertical-align: top;\n",
       "    }\n",
       "\n",
       "    .dataframe thead th {\n",
       "        text-align: right;\n",
       "    }\n",
       "</style>\n",
       "<table border=\"1\" class=\"dataframe\">\n",
       "  <thead>\n",
       "    <tr style=\"text-align: right;\">\n",
       "      <th></th>\n",
       "      <th>struct</th>\n",
       "      <th>number</th>\n",
       "    </tr>\n",
       "  </thead>\n",
       "  <tbody>\n",
       "    <tr>\n",
       "      <th>0</th>\n",
       "      <td>.</td>\n",
       "      <td>2090</td>\n",
       "    </tr>\n",
       "    <tr>\n",
       "      <th>1</th>\n",
       "      <td>)</td>\n",
       "      <td>167</td>\n",
       "    </tr>\n",
       "    <tr>\n",
       "      <th>2</th>\n",
       "      <td>(</td>\n",
       "      <td>143</td>\n",
       "    </tr>\n",
       "  </tbody>\n",
       "</table>\n",
       "</div>"
      ],
      "text/plain": [
       "  struct  number\n",
       "0      .    2090\n",
       "1      )     167\n",
       "2      (     143"
      ]
     },
     "execution_count": 14,
     "metadata": {},
     "output_type": "execute_result"
    }
   ],
   "source": [
    "d_base_rea, d_strct_rea, d_loop_rea = max_dstrb_df(train, \"reactivity\")\n",
    "\n",
    "d_base_ph, d_strct_ph, d_loop_ph = max_dstrb_df(train, \"deg_Mg_pH10\")\n",
    "d_base_ph2, d_strct_ph2, d_loop_ph2 = min_dstrb_df(train, \"deg_Mg_pH10\")\n",
    "\n",
    "d_base_50c, d_strct_50c, d_loop_50c = max_dstrb_df(train, \"deg_Mg_50C\")\n",
    "\n",
    "\n",
    "print(d_strct_ph)\n",
    "print(d_strct_50c)\n",
    "\n",
    "new_df = pd.DataFrame(d_strct_50c.items(), columns=['struct', 'number'])\n",
    "\n",
    "\n",
    "new_df2 = pd.DataFrame(d_strct_ph.items(), columns=['struct', 'number'])\n",
    "\n",
    "new_df2"
   ]
  },
  {
   "cell_type": "code",
   "execution_count": 16,
   "metadata": {},
   "outputs": [
    {
     "data": {
      "image/png": "[encoded data removed]",
      "text/plain": [
       "<Figure size 432x288 with 1 Axes>"
      ]
     },
     "metadata": {
      "needs_background": "light"
     },
     "output_type": "display_data"
    },
    {
     "data": {
      "image/png": "[encoded data removed]",
      "text/plain": [
       "<Figure size 432x288 with 1 Axes>"
      ]
     },
     "metadata": {
      "needs_background": "light"
     },
     "output_type": "display_data"
    }
   ],
   "source": [
    "x = new_df['struct']\n",
    "y = list(new_df['number'])\n",
    "\n",
    "fig, ax = plt.subplots()\n",
    "plt.title('Most 50C Mg degradable Structure types')\n",
    "plt.bar(x, y)\n",
    "plt.show()\n",
    "\n",
    "x2 = new_df2['struct']\n",
    "y2 = list(new_df2['number'])\n",
    "\n",
    "fig, ax = plt.subplots()\n",
    "plt.title('Most pH Mg degradable Bases')\n",
    "plt.bar(x2, y2)\n",
    "plt.show()"
   ]
  },
  {
   "cell_type": "code",
   "execution_count": 17,
   "metadata": {},
   "outputs": [
    {
     "data": {
      "image/png": "[encoded data removed]",
      "text/plain": [
       "<Figure size 432x288 with 1 Axes>"
      ]
     },
     "metadata": {
      "needs_background": "light"
     },
     "output_type": "display_data"
    }
   ],
   "source": [
    "labels = new_df['struct']\n",
    "mg50c = list(new_df['number'])\n",
    "mgph = list(new_df2['number'])\n",
    "\n",
    "x = np.arange(len(labels))  # the label locations\n",
    "width = 0.35  # the width of the bars\n",
    "\n",
    "fig, ax = plt.subplots()\n",
    "rects1 = ax.bar(x - width/2, mg50c, width, label='Mg 50C')\n",
    "rects2 = ax.bar(x + width/2, mgph, width, label='Mg pH')\n",
    "\n",
    "# Add some text for labels, title and custom x-axis tick labels, etc.\n",
    "ax.set_ylabel('Number')\n",
    "ax.set_title('Proportion by Structure type and Degradation type')\n",
    "ax.set_xticks(x)\n",
    "ax.set_xticklabels(labels)\n",
    "ax.legend()\n",
    "\n",
    "\n",
    "def autolabel(rects):\n",
    "    \"\"\"Attach a text label above each bar in *rects*, displaying its height.\"\"\"\n",
    "    for rect in rects:\n",
    "        height = rect.get_height()\n",
    "        ax.annotate('{}'.format(height),\n",
    "                    xy=(rect.get_x() + rect.get_width() / 2, height),\n",
    "                    xytext=(0, 3),  # 3 points vertical offset\n",
    "                    textcoords=\"offset points\",\n",
    "                    ha='center', va='bottom')\n",
    "\n",
    "\n",
    "autolabel(rects1)\n",
    "autolabel(rects2)\n",
    "\n",
    "fig.tight_layout()\n",
    "\n",
    "plt.show()"
   ]
  },
  {
   "cell_type": "code",
   "execution_count": 18,
   "metadata": {},
   "outputs": [
    {
     "data": {
      "image/png": "[encoded data removed]",
      "text/plain": [
       "<Figure size 432x288 with 1 Axes>"
      ]
     },
     "metadata": {
      "needs_background": "light"
     },
     "output_type": "display_data"
    }
   ],
   "source": [
    "new_df3 = pd.DataFrame(d_base_50c.items(), columns=['base', 'number'])\n",
    "\n",
    "new_df4 = pd.DataFrame(d_base_ph.items(), columns=['base', 'number'])\n",
    "\n",
    "labels = new_df3['base']\n",
    "mg50c = list(new_df3['number'])\n",
    "mgph = list(new_df4['number'])\n",
    "\n",
    "x = np.arange(len(labels))  # the label locations\n",
    "width = 0.35  # the width of the bars\n",
    "\n",
    "fig, ax = plt.subplots()\n",
    "rects1 = ax.bar(x - width/2, mg50c, width, label='Mg 50C')\n",
    "rects2 = ax.bar(x + width/2, mgph, width, label='Mg pH')\n",
    "\n",
    "# Add some text for labels, title and custom x-axis tick labels, etc.\n",
    "ax.set_ylabel('Number')\n",
    "ax.set_title('Proportion by Structure type and Degradation type')\n",
    "ax.set_xticks(x)\n",
    "ax.set_xticklabels(labels)\n",
    "ax.legend()\n",
    "\n",
    "\n",
    "def autolabel(rects):\n",
    "    \"\"\"Attach a text label above each bar in *rects*, displaying its height.\"\"\"\n",
    "    for rect in rects:\n",
    "        height = rect.get_height()\n",
    "        ax.annotate('{}'.format(height),\n",
    "                    xy=(rect.get_x() + rect.get_width() / 2, height),\n",
    "                    xytext=(0, 3),  # 3 points vertical offset\n",
    "                    textcoords=\"offset points\",\n",
    "                    ha='center', va='bottom')\n",
    "\n",
    "\n",
    "autolabel(rects1)\n",
    "autolabel(rects2)\n",
    "\n",
    "fig.tight_layout()\n",
    "\n",
    "plt.show()"
   ]
  },
  {
   "cell_type": "code",
   "execution_count": null,
   "metadata": {},
   "outputs": [],
   "source": []
  }
 ],
 "metadata": {
  "kernelspec": {
   "display_name": "Python 3",
   "language": "python",
   "name": "python3"
  },
  "language_info": {
   "codemirror_mode": {
    "name": "ipython",
    "version": 3
   },
   "file_extension": ".py",
   "mimetype": "text/x-python",
   "name": "python",
   "nbconvert_exporter": "python",
   "pygments_lexer": "ipython3",
   "version": "3.8.5"
  }
 },
 "nbformat": 4,
 "nbformat_minor": 4
}
